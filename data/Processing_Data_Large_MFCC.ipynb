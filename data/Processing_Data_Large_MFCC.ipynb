{
 "metadata": {
  "language_info": {
   "codemirror_mode": {
    "name": "ipython",
    "version": 3
   },
   "file_extension": ".py",
   "mimetype": "text/x-python",
   "name": "python",
   "nbconvert_exporter": "python",
   "pygments_lexer": "ipython3",
   "version": "3.6.9-final"
  },
  "orig_nbformat": 2,
  "kernelspec": {
   "name": "python3",
   "display_name": "Python 3",
   "language": "python"
  }
 },
 "nbformat": 4,
 "nbformat_minor": 2,
 "cells": [
  {
   "source": [
    "# Proccessing WAVs Into Large MFCC Data\n",
    "Garrett Faucher"
   ],
   "cell_type": "markdown",
   "metadata": {}
  },
  {
   "cell_type": "code",
   "execution_count": 26,
   "metadata": {},
   "outputs": [],
   "source": [
    "import librosa\n",
    "import librosa.display\n",
    "import matplotlib.pyplot as plt\n",
    "import numpy as np\n",
    "import pandas as pd\n",
    "from pydub import AudioSegment\n",
    "import tensorflow as tf\n",
    "\n",
    "%matplotlib inline"
   ]
  },
  {
   "source": [
    "## First, trim audio to remove silence"
   ],
   "cell_type": "markdown",
   "metadata": {}
  },
  {
   "cell_type": "code",
   "execution_count": 27,
   "metadata": {},
   "outputs": [],
   "source": [
    "def detect_leading_silence(sound, silence_threshold=-65.0, chunk_size=10):\n",
    "    '''\n",
    "    sound is a pydub.AudioSegment\n",
    "    silence_threshold in dB\n",
    "    chunk_size in ms\n",
    "\n",
    "    iterate over chunks until you find the first one with sound\n",
    "    '''\n",
    "    trim_ms = 0 # ms\n",
    "\n",
    "    assert chunk_size > 0 # to avoid infinite loop\n",
    "    while sound[trim_ms:trim_ms+chunk_size].dBFS < silence_threshold and trim_ms < len(sound):\n",
    "        trim_ms += chunk_size\n",
    "\n",
    "    return trim_ms"
   ]
  },
  {
   "cell_type": "code",
   "execution_count": 28,
   "metadata": {},
   "outputs": [],
   "source": [
    "def trim(file_path):\n",
    "    sound = AudioSegment.from_file(file_path, format=\"wav\")\n",
    "\n",
    "    start_trim = detect_leading_silence(sound)\n",
    "    end_trim = detect_leading_silence(sound.reverse())\n",
    "\n",
    "    duration = len(sound)    \n",
    "    trimmed_sound = sound[start_trim:duration-end_trim]\n",
    "    return trimmed_sound"
   ]
  },
  {
   "cell_type": "code",
   "execution_count": 29,
   "metadata": {},
   "outputs": [],
   "source": [
    "# Trimming the audio files so blank audio is removed\n",
    "voice_data_dir = \"voice_data\"\n",
    "dir_actors = os.listdir(voice_data_dir)\n",
    "\n",
    "for i in range(len(dir_actors)):\n",
    "    wavs = os.listdir(voice_data_dir + \"/\" + dir_actors[i])\n",
    "    for j in range(len(wavs)):\n",
    "        in_dir = voice_data_dir + \"/\" + dir_actors[i] + \"/\" + wavs[j]\n",
    "        out_dir = \"trimmed_\" + in_dir\n",
    "        audio = trim(in_dir)\n",
    "        audio.export(out_dir, format='wav')"
   ]
  },
  {
   "source": [
    "## Next, pad the dataset to have audio clips of the same length for all samples"
   ],
   "cell_type": "markdown",
   "metadata": {}
  },
  {
   "cell_type": "code",
   "execution_count": 22,
   "metadata": {},
   "outputs": [],
   "source": [
    "# Padding the audio files so shape is the same for all audio entries\n",
    "voice_data_dir = \"voice_data\"\n",
    "dir_actors = os.listdir(voice_data_dir)\n",
    "\n",
    "for i in range(len(dir_actors)):\n",
    "    wavs = os.listdir(voice_data_dir + \"/\" + dir_actors[i])\n",
    "    for j in range(len(wavs)):\n",
    "        in_dir = voice_data_dir + \"/\" + dir_actors[i] + \"/\" + wavs[j]\n",
    "        out_dir = \"uniform_\" + in_dir\n",
    "        audio = AudioSegment.silent(duration=4395)\n",
    "        audio = audio.overlay(AudioSegment.from_wav(in_dir))\n",
    "        audio.export(out_dir, format='wav')"
   ]
  },
  {
   "source": [
    "## Lastly, generate MFCCs from padded audio clips and store MFCC data in NumPy array"
   ],
   "cell_type": "markdown",
   "metadata": {}
  },
  {
   "cell_type": "code",
   "execution_count": 32,
   "metadata": {
    "tags": []
   },
   "outputs": [],
   "source": [
    "x = np.array([])\n",
    "voice_data_dir = \"uniform_voice_data\"\n",
    "dir_actors = os.listdir(voice_data_dir)\n",
    "\n",
    "for i in range(len(dir_actors)):\n",
    "    wavs = os.listdir(voice_data_dir + \"/\" + dir_actors[i])\n",
    "    for j in range(len(wavs)):\n",
    "        wav_dir = voice_data_dir + \"/\" + dir_actors[i] + \"/\" + wavs[j]\n",
    "        y, sr = librosa.load(wav_dir, sr=176400)\n",
    "        mfcc = librosa.feature.mfcc(y=y, sr=sr, n_mfcc=30)\n",
    "        x = np.append(x, mfcc)"
   ]
  },
  {
   "source": [
    "## Reorganize array to be split by actor, audio clip, and MFCC dimensions\n",
    "Expected # of data points: (# actors) \\* (# clips) \\* (mfcc shape x) \\* (mfcc shape y) = 24 \\* 60 \\* 20 \\* 474 = 13651200"
   ],
   "cell_type": "markdown",
   "metadata": {}
  },
  {
   "cell_type": "code",
   "execution_count": 33,
   "metadata": {},
   "outputs": [
    {
     "output_type": "execute_result",
     "data": {
      "text/plain": [
       "(24, 60, 1515, 30)"
      ]
     },
     "metadata": {},
     "execution_count": 33
    }
   ],
   "source": [
    "num_actors = 24\n",
    "num_wav = 60\n",
    "num_mfcc_x = mfcc[0].size\n",
    "num_mfcc_y = len(mfcc)\n",
    "\n",
    "x = x.reshape(num_actors, num_wav, num_mfcc_x, num_mfcc_y)\n",
    "x.shape"
   ]
  },
  {
   "cell_type": "code",
   "execution_count": 34,
   "metadata": {},
   "outputs": [],
   "source": [
    "# Export array to npy file\n",
    "np.save(\"audio_data_long\", x)"
   ]
  },
  {
   "source": [
    "## Generate NumPy array of features to pair with data"
   ],
   "cell_type": "markdown",
   "metadata": {}
  },
  {
   "cell_type": "code",
   "execution_count": 6,
   "metadata": {
    "tags": []
   },
   "outputs": [],
   "source": [
    "wav_labels = np.array([])\n",
    "voice_data_dir = \"uniform_voice_data\"\n",
    "dir_actors = os.listdir(voice_data_dir)\n",
    "\n",
    "for i in range(len(dir_actors)):\n",
    "    wavs = os.listdir(voice_data_dir + \"/\" + dir_actors[i])\n",
    "    for j in range(len(wavs)):\n",
    "        current_labels = [int(wavs[j][0:2]), int(wavs[j][3:5]), int(wavs[j][6:8]), int(wavs[j][9:11]), int(wavs[j][12:14]), int(wavs[j][15:17]), int(wavs[j][18:20])]\n",
    "        wav_labels = np.append(wav_labels, current_labels)\n",
    "\n",
    "wav_labels = wav_labels.reshape(num_actors * num_wav, 7)"
   ]
  },
  {
   "cell_type": "code",
   "execution_count": 7,
   "metadata": {},
   "outputs": [],
   "source": [
    "# Export array to npy file\n",
    "np.save(\"wav_labels\", wav_labels)"
   ]
  }
 ]
}