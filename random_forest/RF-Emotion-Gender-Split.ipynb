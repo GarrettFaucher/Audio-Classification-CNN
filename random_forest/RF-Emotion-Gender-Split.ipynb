{
 "cells": [
  {
   "cell_type": "markdown",
   "metadata": {},
   "source": [
    "# Base Random Forest for Audio Classification- Split by Gender"
   ]
  },
  {
   "cell_type": "code",
   "execution_count": 1,
   "metadata": {},
   "outputs": [],
   "source": [
    "import numpy as np\n",
    "import pandas as pd\n",
    "import matplotlib.pyplot as plt\n",
    "import librosa\n",
    "import librosa.display\n",
    "import sklearn as sk\n",
    "from sklearn.ensemble import RandomForestClassifier\n",
    "\n",
    "\n",
    "%matplotlib inline"
   ]
  },
  {
   "cell_type": "markdown",
   "metadata": {},
   "source": [
    "## Read in data and setup Dataframe"
   ]
  },
  {
   "cell_type": "code",
   "execution_count": 3,
   "metadata": {},
   "outputs": [
    {
     "data": {
      "text/html": [
       "<div>\n",
       "<style scoped>\n",
       "    .dataframe tbody tr th:only-of-type {\n",
       "        vertical-align: middle;\n",
       "    }\n",
       "\n",
       "    .dataframe tbody tr th {\n",
       "        vertical-align: top;\n",
       "    }\n",
       "\n",
       "    .dataframe thead th {\n",
       "        text-align: right;\n",
       "    }\n",
       "</style>\n",
       "<table border=\"1\" class=\"dataframe\">\n",
       "  <thead>\n",
       "    <tr style=\"text-align: right;\">\n",
       "      <th></th>\n",
       "      <th>mfcc</th>\n",
       "      <th>gender</th>\n",
       "      <th>emotion</th>\n",
       "    </tr>\n",
       "  </thead>\n",
       "  <tbody>\n",
       "    <tr>\n",
       "      <th>0</th>\n",
       "      <td>[-855.3770751953125, -855.3770751953125, -855....</td>\n",
       "      <td>Male</td>\n",
       "      <td>neutral</td>\n",
       "    </tr>\n",
       "    <tr>\n",
       "      <th>1</th>\n",
       "      <td>[-850.3917236328125, -850.435791015625, -850.4...</td>\n",
       "      <td>Male</td>\n",
       "      <td>neutral</td>\n",
       "    </tr>\n",
       "    <tr>\n",
       "      <th>2</th>\n",
       "      <td>[-849.78369140625, -848.8447265625, -848.56610...</td>\n",
       "      <td>Male</td>\n",
       "      <td>neutral</td>\n",
       "    </tr>\n",
       "    <tr>\n",
       "      <th>3</th>\n",
       "      <td>[-842.9385375976562, -843.2474975585938, -850....</td>\n",
       "      <td>Male</td>\n",
       "      <td>neutral</td>\n",
       "    </tr>\n",
       "    <tr>\n",
       "      <th>4</th>\n",
       "      <td>[-911.1758422851562, -910.4053344726562, -905....</td>\n",
       "      <td>Male</td>\n",
       "      <td>calm</td>\n",
       "    </tr>\n",
       "  </tbody>\n",
       "</table>\n",
       "</div>"
      ],
      "text/plain": [
       "                                                mfcc gender  emotion\n",
       "0  [-855.3770751953125, -855.3770751953125, -855....   Male  neutral\n",
       "1  [-850.3917236328125, -850.435791015625, -850.4...   Male  neutral\n",
       "2  [-849.78369140625, -848.8447265625, -848.56610...   Male  neutral\n",
       "3  [-842.9385375976562, -843.2474975585938, -850....   Male  neutral\n",
       "4  [-911.1758422851562, -910.4053344726562, -905....   Male     calm"
      ]
     },
     "execution_count": 3,
     "metadata": {},
     "output_type": "execute_result"
    }
   ],
   "source": [
    "audio_data = np.load(\"audio_data.npy\")\n",
    "labels = np.load(\"wav_labels.npy\")\n",
    "\n",
    "# labels: modality-vocal channel-emotion-emotional intensity-statement-repetition-actor\n",
    "# emotions: 01 = neutral, 02 = calm, 03 = happy, 04 = sad, 05 = angry, 06 = fearful, 07 = disgust, 08 = surprised\n",
    "# odd number actors = male, even = female\n",
    "\n",
    "# 1440 files: 24 speakers, 60 recordings per speaker\n",
    "audio_data = audio_data.reshape(1440, 9480)\n",
    "\n",
    "m_features = []\n",
    "f_features = []\n",
    "\n",
    "\n",
    "# classifying by emotion when segmented by gender\n",
    "for i in range(1440):\n",
    "    \n",
    "    if (labels[i][6]%2 == 0):\n",
    "        label = \"Female\"\n",
    "    else:\n",
    "        label = \"Male\"\n",
    "        \n",
    "    if (labels[i][2] == 1):\n",
    "        emot = \"neutral\"\n",
    "    elif (labels[i][2] == 2):\n",
    "        emot = \"calm\"\n",
    "    elif (labels[i][2] == 3):\n",
    "        emot = \"happy\"\n",
    "    elif (labels[i][2] == 4):\n",
    "        emot = \"sad\"\n",
    "    elif (labels[i][2] == 5):\n",
    "        emot = \"angry\"\n",
    "    elif (labels[i][2] == 6):\n",
    "        emot = \"fearful\"\n",
    "    elif (labels[i][2] == 7):\n",
    "        emot = \"disgust\"\n",
    "    elif (labels[i][2] == 8):\n",
    "        emot = \"surprised\"\n",
    "    \n",
    "    if (label == \"Male\"):\n",
    "        m_features.append([audio_data[i], label, emot])\n",
    "    elif (label == \"Female\"):\n",
    "        f_features.append([audio_data[i], label, emot])\n",
    "    \n",
    "\n",
    "\n",
    "    \n",
    "m_feature_df = pd.DataFrame(m_features, columns = [\"mfcc\", \"gender\", \"emotion\"])\n",
    "f_feature_df = pd.DataFrame(f_features, columns = [\"mfcc\", \"gender\", \"emotion\"])\n",
    "\n",
    "\n",
    "m_feature_df.head()"
   ]
  },
  {
   "cell_type": "code",
   "execution_count": 4,
   "metadata": {},
   "outputs": [
    {
     "data": {
      "text/html": [
       "<div>\n",
       "<style scoped>\n",
       "    .dataframe tbody tr th:only-of-type {\n",
       "        vertical-align: middle;\n",
       "    }\n",
       "\n",
       "    .dataframe tbody tr th {\n",
       "        vertical-align: top;\n",
       "    }\n",
       "\n",
       "    .dataframe thead th {\n",
       "        text-align: right;\n",
       "    }\n",
       "</style>\n",
       "<table border=\"1\" class=\"dataframe\">\n",
       "  <thead>\n",
       "    <tr style=\"text-align: right;\">\n",
       "      <th></th>\n",
       "      <th>mfcc</th>\n",
       "      <th>gender</th>\n",
       "      <th>emotion</th>\n",
       "    </tr>\n",
       "  </thead>\n",
       "  <tbody>\n",
       "    <tr>\n",
       "      <th>0</th>\n",
       "      <td>[-821.495849609375, -821.495849609375, -821.49...</td>\n",
       "      <td>Female</td>\n",
       "      <td>neutral</td>\n",
       "    </tr>\n",
       "    <tr>\n",
       "      <th>1</th>\n",
       "      <td>[-820.0106811523438, -820.0106811523438, -820....</td>\n",
       "      <td>Female</td>\n",
       "      <td>neutral</td>\n",
       "    </tr>\n",
       "    <tr>\n",
       "      <th>2</th>\n",
       "      <td>[-782.8099365234375, -782.8099365234375, -782....</td>\n",
       "      <td>Female</td>\n",
       "      <td>neutral</td>\n",
       "    </tr>\n",
       "    <tr>\n",
       "      <th>3</th>\n",
       "      <td>[-814.5337524414062, -813.1904907226562, -812....</td>\n",
       "      <td>Female</td>\n",
       "      <td>neutral</td>\n",
       "    </tr>\n",
       "    <tr>\n",
       "      <th>4</th>\n",
       "      <td>[-853.9297485351562, -853.9297485351562, -853....</td>\n",
       "      <td>Female</td>\n",
       "      <td>calm</td>\n",
       "    </tr>\n",
       "  </tbody>\n",
       "</table>\n",
       "</div>"
      ],
      "text/plain": [
       "                                                mfcc  gender  emotion\n",
       "0  [-821.495849609375, -821.495849609375, -821.49...  Female  neutral\n",
       "1  [-820.0106811523438, -820.0106811523438, -820....  Female  neutral\n",
       "2  [-782.8099365234375, -782.8099365234375, -782....  Female  neutral\n",
       "3  [-814.5337524414062, -813.1904907226562, -812....  Female  neutral\n",
       "4  [-853.9297485351562, -853.9297485351562, -853....  Female     calm"
      ]
     },
     "execution_count": 4,
     "metadata": {},
     "output_type": "execute_result"
    }
   ],
   "source": [
    "f_feature_df.head()"
   ]
  },
  {
   "cell_type": "markdown",
   "metadata": {},
   "source": [
    "## Breakdown Dataframe and run through Random Forest"
   ]
  },
  {
   "cell_type": "code",
   "execution_count": 6,
   "metadata": {},
   "outputs": [],
   "source": [
    "X_m = np.array(m_feature_df.mfcc.tolist())\n",
    "X_f = np.array(f_feature_df.mfcc.tolist())\n",
    "\n",
    "Y_m = np.array(m_feature_df.emotion.tolist())\n",
    "Y_f = np.array(f_feature_df.emotion.tolist())\n",
    "\n",
    "x_train, x_test, y_train, y_test = sk.model_selection.train_test_split(X_m, Y_m, test_size=0.25, random_state=0)\n",
    "\n",
    "X_train, X_test, Y_train, Y_test = sk.model_selection.train_test_split(X_f, Y_f, test_size=0.25, random_state=0)\n",
    "\n",
    "# Standard RF\n",
    "rfc_m = RandomForestClassifier()\n",
    "\n",
    "rfc_m.fit(x_train, y_train)\n",
    "\n",
    "predictions_m = rfc_m.predict(x_test)\n",
    "\n",
    "rfc_f = RandomForestClassifier()\n",
    "\n",
    "rfc_f.fit(X_train, Y_train)\n",
    "\n",
    "predictions_f = rfc_f.predict(X_test)"
   ]
  },
  {
   "cell_type": "markdown",
   "metadata": {},
   "source": [
    "## Display Results: Confusion Matrices"
   ]
  },
  {
   "cell_type": "code",
   "execution_count": 9,
   "metadata": {},
   "outputs": [
    {
     "name": "stdout",
     "output_type": "stream",
     "text": [
      "Emotion Classification among Male Subjects\n",
      "   neutral  calm  happy  sad  angry  fearful  disgust  surprised\n",
      "0       11     2      2    0      2        0        0          1\n",
      "1        0    18      2    0      0        4        3          0\n",
      "2        0     1     16    0      1        0        1          0\n",
      "3        3     3      2    7      2        1        2          2\n",
      "4        8     2      1    1     11        0        2          2\n",
      "5        0     2      1    1      0        4        8          0\n",
      "6        1     7      2    0      2        0       12          1\n",
      "7        0     1      5    5      3        0        1         11\n"
     ]
    },
    {
     "data": {
      "image/png": "[encoded data removed]",
      "text/plain": [
       "<Figure size 720x288 with 1 Axes>"
      ]
     },
     "metadata": {
      "needs_background": "light"
     },
     "output_type": "display_data"
    },
    {
     "name": "stdout",
     "output_type": "stream",
     "text": [
      "Emotion Classification among Female Subjects\n",
      "   neutral  calm  happy  sad  angry  fearful  disgust  surprised\n",
      "0       11     0      1    2      0        0        0          4\n",
      "1        0    13      6    0      0        4        2          2\n",
      "2        1     2     13    0      0        0        2          1\n",
      "3        2     3      0   11      0        0        1          5\n",
      "4        4     1      1    3      8        0        1          9\n",
      "5        0     3      0    0      0        9        2          2\n",
      "6        3     6      3    1      1        3        6          2\n",
      "7        0     1      1    0      1        1        1         21\n"
     ]
    },
    {
     "data": {
      "image/png": "[encoded data removed]",
      "text/plain": [
       "<Figure size 720x288 with 1 Axes>"
      ]
     },
     "metadata": {
      "needs_background": "light"
     },
     "output_type": "display_data"
    }
   ],
   "source": [
    "cm_m = sk.metrics.confusion_matrix(y_test, predictions_m)\n",
    "cm_f = sk.metrics.confusion_matrix(Y_test, predictions_f)\n",
    "\n",
    "print(\"Emotion Classification among Male Subjects\")\n",
    "df = pd.DataFrame(cm_m, columns=[Y_m[0], Y_m[4], Y_m[12], Y_m[20], Y_m[28], Y_m[36], Y_m[44], Y_m[52] ])\n",
    "print(df)\n",
    "\n",
    "plt.figure(figsize=(10,4))\n",
    "plt.imshow(cm_m)\n",
    "plt.title(\"Confusion Matrix\")\n",
    "plt.show()\n",
    "\n",
    "print(\"Emotion Classification among Female Subjects\")\n",
    "df = pd.DataFrame(cm_f, columns=[Y_f[0], Y_f[4], Y_f[12], Y_f[20], Y_f[28], Y_f[36], Y_f[44], Y_f[52] ])\n",
    "print(df)\n",
    "\n",
    "plt.figure(figsize=(10,4))\n",
    "plt.imshow(cm_f)\n",
    "plt.title(\"Confusion Matrix\")\n",
    "plt.show()"
   ]
  },
  {
   "cell_type": "markdown",
   "metadata": {},
   "source": [
    "## Precision Results"
   ]
  },
  {
   "cell_type": "code",
   "execution_count": 10,
   "metadata": {},
   "outputs": [
    {
     "name": "stdout",
     "output_type": "stream",
     "text": [
      "Classification by Emotion Precision in Males: 0.5029369746318673\n",
      "              precision    recall  f1-score   support\n",
      "\n",
      "       angry       0.48      0.61      0.54        18\n",
      "        calm       0.50      0.67      0.57        27\n",
      "     disgust       0.52      0.84      0.64        19\n",
      "     fearful       0.50      0.32      0.39        22\n",
      "       happy       0.52      0.41      0.46        27\n",
      "     neutral       0.44      0.25      0.32        16\n",
      "         sad       0.41      0.48      0.44        25\n",
      "   surprised       0.65      0.42      0.51        26\n",
      "\n",
      "    accuracy                           0.50       180\n",
      "   macro avg       0.50      0.50      0.48       180\n",
      "weighted avg       0.51      0.50      0.49       180\n",
      "\n",
      "Classification by Emotion Precision in Females: 0.5406347141555272\n",
      "              precision    recall  f1-score   support\n",
      "\n",
      "       angry       0.52      0.61      0.56        18\n",
      "        calm       0.45      0.48      0.46        27\n",
      "     disgust       0.52      0.68      0.59        19\n",
      "     fearful       0.65      0.50      0.56        22\n",
      "       happy       0.80      0.30      0.43        27\n",
      "     neutral       0.53      0.56      0.55        16\n",
      "         sad       0.40      0.24      0.30        25\n",
      "   surprised       0.46      0.81      0.58        26\n",
      "\n",
      "    accuracy                           0.51       180\n",
      "   macro avg       0.54      0.52      0.51       180\n",
      "weighted avg       0.54      0.51      0.50       180\n",
      "\n"
     ]
    }
   ],
   "source": [
    "def precision(confmatrix):\n",
    "    # precision = tp/(tp+fp)\n",
    "    tp = np.diag(confmatrix)\n",
    "    fp = np.sum(confmatrix, axis=0) - tp\n",
    "    precision = np.mean(tp/(tp+fp))\n",
    "    return precision\n",
    "\n",
    "prec_m = precision(cm_m)\n",
    "prec_f = precision(cm_f)\n",
    "\n",
    "print(\"Classification by Emotion Precision in Males: \" + str(prec_m))\n",
    "cr = sk.metrics.classification_report(y_test, predictions_m)\n",
    "print(cr)\n",
    "\n",
    "print(\"Classification by Emotion Precision in Females: \" + str(prec_f))\n",
    "cr = sk.metrics.classification_report(Y_test, predictions_f)\n",
    "print(cr)"
   ]
  },
  {
   "cell_type": "code",
   "execution_count": null,
   "metadata": {},
   "outputs": [],
   "source": []
  }
 ],
 "metadata": {
  "kernelspec": {
   "display_name": "Python 3",
   "language": "python",
   "name": "python3"
  },
  "language_info": {
   "codemirror_mode": {
    "name": "ipython",
    "version": 3
   },
   "file_extension": ".py",
   "mimetype": "text/x-python",
   "name": "python",
   "nbconvert_exporter": "python",
   "pygments_lexer": "ipython3",
   "version": "3.8.3"
  }
 },
 "nbformat": 4,
 "nbformat_minor": 4
}
