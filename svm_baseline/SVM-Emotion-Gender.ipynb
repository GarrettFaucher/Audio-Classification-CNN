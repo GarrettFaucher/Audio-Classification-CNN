{
 "cells": [
  {
   "cell_type": "markdown",
   "metadata": {},
   "source": [
    "# SVM classifier for baseline results"
   ]
  },
  {
   "cell_type": "code",
   "execution_count": 1,
   "metadata": {},
   "outputs": [],
   "source": [
    "import numpy as np\n",
    "import pandas as pd\n",
    "import matplotlib.pyplot as plt\n",
    "import librosa\n",
    "import librosa.display\n",
    "import sklearn as sk\n",
    "\n",
    "\n",
    "%matplotlib inline"
   ]
  },
  {
   "cell_type": "markdown",
   "metadata": {},
   "source": [
    "## Setup dataframe with clip labeling by gender & emotion"
   ]
  },
  {
   "cell_type": "code",
   "execution_count": 4,
   "metadata": {},
   "outputs": [
    {
     "data": {
      "text/html": [
       "<div>\n",
       "<style scoped>\n",
       "    .dataframe tbody tr th:only-of-type {\n",
       "        vertical-align: middle;\n",
       "    }\n",
       "\n",
       "    .dataframe tbody tr th {\n",
       "        vertical-align: top;\n",
       "    }\n",
       "\n",
       "    .dataframe thead th {\n",
       "        text-align: right;\n",
       "    }\n",
       "</style>\n",
       "<table border=\"1\" class=\"dataframe\">\n",
       "  <thead>\n",
       "    <tr style=\"text-align: right;\">\n",
       "      <th></th>\n",
       "      <th>mfcc</th>\n",
       "      <th>gender</th>\n",
       "      <th>emotion</th>\n",
       "    </tr>\n",
       "  </thead>\n",
       "  <tbody>\n",
       "    <tr>\n",
       "      <th>0</th>\n",
       "      <td>[-855.3770751953125, -855.3770751953125, -855....</td>\n",
       "      <td>Male</td>\n",
       "      <td>neutral</td>\n",
       "    </tr>\n",
       "    <tr>\n",
       "      <th>1</th>\n",
       "      <td>[-850.3917236328125, -850.435791015625, -850.4...</td>\n",
       "      <td>Male</td>\n",
       "      <td>neutral</td>\n",
       "    </tr>\n",
       "    <tr>\n",
       "      <th>2</th>\n",
       "      <td>[-849.78369140625, -848.8447265625, -848.56610...</td>\n",
       "      <td>Male</td>\n",
       "      <td>neutral</td>\n",
       "    </tr>\n",
       "    <tr>\n",
       "      <th>3</th>\n",
       "      <td>[-842.9385375976562, -843.2474975585938, -850....</td>\n",
       "      <td>Male</td>\n",
       "      <td>neutral</td>\n",
       "    </tr>\n",
       "    <tr>\n",
       "      <th>4</th>\n",
       "      <td>[-911.1758422851562, -910.4053344726562, -905....</td>\n",
       "      <td>Male</td>\n",
       "      <td>calm</td>\n",
       "    </tr>\n",
       "  </tbody>\n",
       "</table>\n",
       "</div>"
      ],
      "text/plain": [
       "                                                mfcc gender  emotion\n",
       "0  [-855.3770751953125, -855.3770751953125, -855....   Male  neutral\n",
       "1  [-850.3917236328125, -850.435791015625, -850.4...   Male  neutral\n",
       "2  [-849.78369140625, -848.8447265625, -848.56610...   Male  neutral\n",
       "3  [-842.9385375976562, -843.2474975585938, -850....   Male  neutral\n",
       "4  [-911.1758422851562, -910.4053344726562, -905....   Male     calm"
      ]
     },
     "execution_count": 4,
     "metadata": {},
     "output_type": "execute_result"
    }
   ],
   "source": [
    "audio_data = np.load(\"audio_data.npy\")\n",
    "labels = np.load(\"wav_labels.npy\")\n",
    "\n",
    "# labels: modality-vocal channel-emotion-emotional intensity-statement-repetition-actor\n",
    "# emotions: 01 = neutral, 02 = calm, 03 = happy, 04 = sad, 05 = angry, 06 = fearful, 07 = disgust, 08 = surprised\n",
    "# odd number actors = male, even = female\n",
    "\n",
    "# 1440 files: 24 speakers, 60 recordings per speaker\n",
    "audio_data = audio_data.reshape(1440, 9480)\n",
    "\n",
    "features = []\n",
    "\n",
    "for i in range(1440):\n",
    "    \n",
    "    if (labels[i][6]%2 == 0):\n",
    "        label = \"Female\"\n",
    "    else:\n",
    "        label = \"Male\"\n",
    "        \n",
    "    if (labels[i][2] == 1):\n",
    "        emot = \"neutral\"\n",
    "    elif (labels[i][2] == 2):\n",
    "        emot = \"calm\"\n",
    "    elif (labels[i][2] == 3):\n",
    "        emot = \"happy\"\n",
    "    elif (labels[i][2] == 4):\n",
    "        emot = \"sad\"\n",
    "    elif (labels[i][2] == 5):\n",
    "        emot = \"angry\"\n",
    "    elif (labels[i][2] == 6):\n",
    "        emot = \"fearful\"\n",
    "    elif (labels[i][2] == 7):\n",
    "        emot = \"disgust\"\n",
    "    elif (labels[i][2] == 8):\n",
    "        emot = \"surprised\"\n",
    "    \n",
    "    features.append([audio_data[i], label, emot])\n",
    "\n",
    "\n",
    "    \n",
    "feature_df = pd.DataFrame(features, columns = [\"mfcc\", \"gender\", \"emotion\"])\n",
    "\n",
    "feature_df.head()"
   ]
  },
  {
   "cell_type": "markdown",
   "metadata": {},
   "source": [
    "## Breakdown Dataframe and run through SVM"
   ]
  },
  {
   "cell_type": "code",
   "execution_count": 6,
   "metadata": {},
   "outputs": [],
   "source": [
    "X = np.array(feature_df.mfcc.tolist())\n",
    "\n",
    "Y = np.array(feature_df.gender.tolist())\n",
    "\n",
    "Y1 = np.array(feature_df.emotion.tolist())\n",
    "\n",
    "x_train, x_test, y_train, y_test = sk.model_selection.train_test_split(X, Y, test_size=0.25, random_state=0)\n",
    "\n",
    "X_train, X_test, Y_train, Y_test = sk.model_selection.train_test_split(X, Y1, test_size=0.25, random_state=0)\n",
    "\n",
    "# Standard SVM\n",
    "svm_gender = sk.svm.SVC()\n",
    "\n",
    "svm_gender.fit(x_train, y_train)\n",
    "\n",
    "predictions_gen = svm_gender.predict(x_test)\n",
    "\n",
    "svm_emotion = sk.svm.SVC()\n",
    "\n",
    "svm_emotion.fit(X_train, Y_train)\n",
    "\n",
    "predictions_emot = svm_emotion.predict(X_test)"
   ]
  },
  {
   "cell_type": "markdown",
   "metadata": {},
   "source": [
    "## Display Results: Confusion Matrices"
   ]
  },
  {
   "cell_type": "code",
   "execution_count": 7,
   "metadata": {},
   "outputs": [
    {
     "name": "stdout",
     "output_type": "stream",
     "text": [
      "Gender Classification\n",
      "   Male  Female\n",
      "0   171      12\n",
      "1     9     168\n"
     ]
    },
    {
     "data": {
      "image/png": "[encoded data removed]",
      "text/plain": [
       "<Figure size 720x288 with 1 Axes>"
      ]
     },
     "metadata": {
      "needs_background": "light"
     },
     "output_type": "display_data"
    },
    {
     "name": "stdout",
     "output_type": "stream",
     "text": [
      "Emotion Classification\n",
      "   neutral  calm  happy  sad  angry  fearful  disgust  surprised\n",
      "0       22     1      8    1     10        0        0          3\n",
      "1        0    47      0    0      2        0        5          0\n",
      "2        2    10     22    0      4        0        4          4\n",
      "3       11     1      5    9      6        0        4         11\n",
      "4        5     2      4    3     11        0        6         11\n",
      "5        0    16      1    0      1        0       10          0\n",
      "6        1    17      5    1      7        0       11          3\n",
      "7        2     2      1    1     12        0        8         27\n"
     ]
    },
    {
     "data": {
      "image/png": "[encoded data removed]",
      "text/plain": [
       "<Figure size 720x288 with 1 Axes>"
      ]
     },
     "metadata": {
      "needs_background": "light"
     },
     "output_type": "display_data"
    }
   ],
   "source": [
    "cm_gen = sk.metrics.confusion_matrix(y_test, predictions_gen)\n",
    "cm_emot = sk.metrics.confusion_matrix(Y_test, predictions_emot)\n",
    "\n",
    "print(\"Gender Classification\")\n",
    "df = pd.DataFrame(cm_gen, columns=[Y[0], Y[60]])\n",
    "print(df)\n",
    "\n",
    "plt.figure(figsize=(10,4))\n",
    "plt.imshow(cm_gen)\n",
    "plt.title(\"Confusion Matrix\")\n",
    "plt.show()\n",
    "\n",
    "print(\"Emotion Classification\")\n",
    "df = pd.DataFrame(cm_emot, columns=[Y1[0], Y1[4], Y1[12], Y1[20], Y1[28], Y1[36], Y1[44], Y1[52] ])\n",
    "print(df)\n",
    "\n",
    "plt.figure(figsize=(10,4))\n",
    "plt.imshow(cm_emot)\n",
    "plt.title(\"Confusion Matrix\")\n",
    "plt.show()"
   ]
  },
  {
   "cell_type": "markdown",
   "metadata": {},
   "source": [
    "## Precision Results"
   ]
  },
  {
   "cell_type": "code",
   "execution_count": 13,
   "metadata": {},
   "outputs": [
    {
     "name": "stdout",
     "output_type": "stream",
     "text": [
      "Classification by Gender Precision: 0.9416666666666667\n",
      "Classification by Emotion Precision: 0.4248304378567642\n"
     ]
    },
    {
     "name": "stderr",
     "output_type": "stream",
     "text": [
      "<ipython-input-13-def7d87bbd20>:5: RuntimeWarning: invalid value encountered in true_divide\n",
      "  precision = np.nanmean(tp/(tp+fp))\n"
     ]
    }
   ],
   "source": [
    "def precision(confmatrix):\n",
    "    # precision = tp/(tp+fp)\n",
    "    tp = np.diag(confmatrix)\n",
    "    fp = np.sum(confmatrix, axis=0) - tp  \n",
    "    precision = np.nanmean(tp/(tp+fp)) # nan issue if 0s in diag\n",
    "    return precision\n",
    "\n",
    "prec_gen = precision(cm_gen)\n",
    "\n",
    "prec_emot = precision(cm_emot)\n",
    "\n",
    "print(\"Classification by Gender Precision: \" + str(prec_gen))\n",
    "\n",
    "\n",
    "print(\"Classification by Emotion Precision: \" + str(prec_emot))"
   ]
  }
 ],
 "metadata": {
  "kernelspec": {
   "display_name": "Python 3",
   "language": "python",
   "name": "python3"
  },
  "language_info": {
   "codemirror_mode": {
    "name": "ipython",
    "version": 3
   },
   "file_extension": ".py",
   "mimetype": "text/x-python",
   "name": "python",
   "nbconvert_exporter": "python",
   "pygments_lexer": "ipython3",
   "version": "3.8.3"
  }
 },
 "nbformat": 4,
 "nbformat_minor": 4
}
