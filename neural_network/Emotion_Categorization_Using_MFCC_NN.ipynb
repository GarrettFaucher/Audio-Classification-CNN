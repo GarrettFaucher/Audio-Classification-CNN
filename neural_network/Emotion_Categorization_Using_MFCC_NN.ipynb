{
 "cells": [
  {
   "cell_type": "markdown",
   "metadata": {},
   "source": [
    "# Voice Emotion Classification Neural Network Using MFCC"
   ]
  },
  {
   "cell_type": "markdown",
   "metadata": {},
   "source": [
    "Imports"
   ]
  },
  {
   "cell_type": "code",
   "execution_count": 8,
   "metadata": {},
   "outputs": [],
   "source": [
    "import numpy as np\n",
    "import pandas as pd\n",
    "import matplotlib.pyplot as plt\n",
    "import librosa\n",
    "import librosa.display\n",
    "import sklearn as sk\n",
    "\n",
    "from sklearn.preprocessing import StandardScaler\n",
    "from sklearn.neural_network import MLPClassifier\n",
    "from sklearn.metrics import classification_report, confusion_matrix\n",
    "\n",
    "%matplotlib inline"
   ]
  },
  {
   "cell_type": "markdown",
   "metadata": {},
   "source": [
    "#### Reading and labeling data"
   ]
  },
  {
   "cell_type": "code",
   "execution_count": 9,
   "metadata": {},
   "outputs": [
    {
     "data": {
      "text/html": [
       "<div>\n",
       "<style scoped>\n",
       "    .dataframe tbody tr th:only-of-type {\n",
       "        vertical-align: middle;\n",
       "    }\n",
       "\n",
       "    .dataframe tbody tr th {\n",
       "        vertical-align: top;\n",
       "    }\n",
       "\n",
       "    .dataframe thead th {\n",
       "        text-align: right;\n",
       "    }\n",
       "</style>\n",
       "<table border=\"1\" class=\"dataframe\">\n",
       "  <thead>\n",
       "    <tr style=\"text-align: right;\">\n",
       "      <th></th>\n",
       "      <th>mfcc</th>\n",
       "      <th>emotion</th>\n",
       "    </tr>\n",
       "  </thead>\n",
       "  <tbody>\n",
       "    <tr>\n",
       "      <th>0</th>\n",
       "      <td>[-855.3770751953125, -855.3770751953125, -855....</td>\n",
       "      <td>neutral</td>\n",
       "    </tr>\n",
       "    <tr>\n",
       "      <th>1</th>\n",
       "      <td>[-850.3917236328125, -850.435791015625, -850.4...</td>\n",
       "      <td>neutral</td>\n",
       "    </tr>\n",
       "    <tr>\n",
       "      <th>2</th>\n",
       "      <td>[-849.78369140625, -848.8447265625, -848.56610...</td>\n",
       "      <td>neutral</td>\n",
       "    </tr>\n",
       "    <tr>\n",
       "      <th>3</th>\n",
       "      <td>[-842.9385375976562, -843.2474975585938, -850....</td>\n",
       "      <td>neutral</td>\n",
       "    </tr>\n",
       "    <tr>\n",
       "      <th>4</th>\n",
       "      <td>[-911.1758422851562, -910.4053344726562, -905....</td>\n",
       "      <td>calm</td>\n",
       "    </tr>\n",
       "  </tbody>\n",
       "</table>\n",
       "</div>"
      ],
      "text/plain": [
       "                                                mfcc  emotion\n",
       "0  [-855.3770751953125, -855.3770751953125, -855....  neutral\n",
       "1  [-850.3917236328125, -850.435791015625, -850.4...  neutral\n",
       "2  [-849.78369140625, -848.8447265625, -848.56610...  neutral\n",
       "3  [-842.9385375976562, -843.2474975585938, -850....  neutral\n",
       "4  [-911.1758422851562, -910.4053344726562, -905....     calm"
      ]
     },
     "execution_count": 9,
     "metadata": {},
     "output_type": "execute_result"
    }
   ],
   "source": [
    "audio_data = np.load(\"audio_data.npy\")\n",
    "labels = np.load(\"wav_labels.npy\")\n",
    "\n",
    "# labels: modality-vocal channel-emotion-emotional intensity-statement-repetition-actor\n",
    "# emotions: 01 = neutral, 02 = calm, 03 = happy, 04 = sad, 05 = angry, 06 = fearful, 07 = disgust, 08 = surprised\n",
    "# odd number actors = male, even = female\n",
    "\n",
    "# 1440 files: 24 speakers, 60 recordings per speaker\n",
    "audio_data = audio_data.reshape(1440, 9480)\n",
    "\n",
    "features = []\n",
    "\n",
    "for i in range(1440):\n",
    "    if (labels[i][2] == 1):\n",
    "        em = \"neutral\"\n",
    "    elif (labels[i][2] == 2):\n",
    "        em = \"calm\"\n",
    "    elif (labels[i][2] == 3):\n",
    "        em = \"happy\"\n",
    "    elif (labels[i][2] == 4):\n",
    "        em = \"sad\"\n",
    "    elif (labels[i][2] == 5):\n",
    "        em = \"angry\"\n",
    "    elif (labels[i][2] == 6):\n",
    "        em = \"fearful\"\n",
    "    elif (labels[i][2] == 7):\n",
    "        em = \"disgust\"\n",
    "    elif (labels[i][2] == 8):\n",
    "        em = \"surprised\"\n",
    "    \n",
    "    features.append([audio_data[i], em])\n",
    "\n",
    "\n",
    "    \n",
    "feature_df = pd.DataFrame(features, columns = [\"mfcc\", \"emotion\"])\n",
    "\n",
    "feature_df.head()\n"
   ]
  },
  {
   "cell_type": "markdown",
   "metadata": {},
   "source": [
    "Split testing and training"
   ]
  },
  {
   "cell_type": "code",
   "execution_count": 10,
   "metadata": {},
   "outputs": [],
   "source": [
    "#split testing and training data\n",
    "X = np.array(feature_df.mfcc.tolist())\n",
    "Y = np.array(feature_df.emotion.tolist())\n",
    "\n",
    "#20-80 train-test split\n",
    "X_train, X_test, y_train, y_test = sk.model_selection.train_test_split(X, Y, test_size=0.20, random_state=0)"
   ]
  },
  {
   "cell_type": "code",
   "execution_count": 11,
   "metadata": {},
   "outputs": [],
   "source": [
    "#regularization\n",
    "scaler = StandardScaler()\n",
    "scaler.fit(X_train)\n",
    "\n",
    "X_train = scaler.transform(X_train)\n",
    "X_test = scaler.transform(X_test)"
   ]
  },
  {
   "cell_type": "code",
   "execution_count": 28,
   "metadata": {},
   "outputs": [],
   "source": [
    "#Training and Predictions\n",
    "mlp = MLPClassifier(hidden_layer_sizes=(10, 115, 10), max_iter=1000)\n",
    "mlp.fit(X_train, y_train)\n",
    "\n",
    "predictions = mlp.predict(X_test)"
   ]
  },
  {
   "cell_type": "code",
   "execution_count": 29,
   "metadata": {},
   "outputs": [
    {
     "name": "stdout",
     "output_type": "stream",
     "text": [
      "Emotion Classification\n",
      "   neutral  calm  happy  sad  angry  fearful  disgust  surprised\n",
      "0       20     2      3    1      6        0        1          1\n",
      "1        0    17      5    0      3        5       14          0\n",
      "2        0     5     14    4      1        1        2          4\n",
      "3        1     3      2   20      8        2        1          4\n",
      "4        5     0      0    6     13        4        1          4\n",
      "5        0     3      0    2      7        7        4          2\n",
      "6        1     9      0    5      1        4       17          1\n",
      "7        4     2      1    9      4        0        3         19\n"
     ]
    },
    {
     "data": {
      "image/png": "[encoded data removed]",
      "text/plain": [
       "<Figure size 720x288 with 1 Axes>"
      ]
     },
     "metadata": {
      "needs_background": "light"
     },
     "output_type": "display_data"
    },
    {
     "name": "stdout",
     "output_type": "stream",
     "text": [
      "Classification by Gender Precision: 0.4487758423883014\n",
      "              precision    recall  f1-score   support\n",
      "\n",
      "       angry       0.65      0.59      0.62        34\n",
      "        calm       0.41      0.39      0.40        44\n",
      "     disgust       0.56      0.45      0.50        31\n",
      "     fearful       0.43      0.49      0.45        41\n",
      "       happy       0.30      0.39      0.34        33\n",
      "     neutral       0.30      0.28      0.29        25\n",
      "         sad       0.40      0.45      0.42        38\n",
      "   surprised       0.54      0.45      0.49        42\n",
      "\n",
      "    accuracy                           0.44       288\n",
      "   macro avg       0.45      0.44      0.44       288\n",
      "weighted avg       0.45      0.44      0.44       288\n",
      "\n"
     ]
    }
   ],
   "source": [
    "#Algorithm Evaluation\n",
    "cm = confusion_matrix(y_test,predictions)\n",
    "print(\"Emotion Classification\")\n",
    "df = pd.DataFrame(cm, columns=[Y[0], Y[4], Y[12], Y[20], Y[28], Y[36], Y[44], Y[52] ])\n",
    "print(df)\n",
    "\n",
    "#figure for confusion matrix\n",
    "conf_matrix = confusion_matrix(y_test,predictions)\n",
    "plt.figure(figsize=(10,4))\n",
    "plt.imshow(conf_matrix)\n",
    "plt.title(\"Confusion Matrix\")\n",
    "plt.show()\n",
    "\n",
    "#precision function\n",
    "def precision(confmatrix):\n",
    "    # precision = tp/(tp+fp)\n",
    "    tp = np.diag(confmatrix)\n",
    "    fp = np.sum(confmatrix, axis=0) - tp\n",
    "    precision = np.mean(tp/(tp+fp))\n",
    "    return precision\n",
    "\n",
    "prec = precision(cm)\n",
    "\n",
    "#print calculated precision\n",
    "print(\"Classification by Gender Precision: \" + str(prec))\n",
    "#print metrics report\n",
    "print(classification_report(y_test,predictions))"
   ]
  },
  {
   "cell_type": "code",
   "execution_count": null,
   "metadata": {},
   "outputs": [],
   "source": []
  }
 ],
 "metadata": {
  "kernelspec": {
   "display_name": "Python 3",
   "language": "python",
   "name": "python3"
  },
  "language_info": {
   "codemirror_mode": {
    "name": "ipython",
    "version": 3
   },
   "file_extension": ".py",
   "mimetype": "text/x-python",
   "name": "python",
   "nbconvert_exporter": "python",
   "pygments_lexer": "ipython3",
   "version": "3.8.3"
  }
 },
 "nbformat": 4,
 "nbformat_minor": 4
}
