{
 "cells": [
  {
   "cell_type": "markdown",
   "metadata": {},
   "source": [
    "# Voice Emotion Classification Neural Network Using MFCC and Gender"
   ]
  },
  {
   "cell_type": "markdown",
   "metadata": {},
   "source": [
    "Imports"
   ]
  },
  {
   "cell_type": "code",
   "execution_count": 1,
   "metadata": {},
   "outputs": [],
   "source": [
    "import numpy as np\n",
    "import pandas as pd\n",
    "import matplotlib.pyplot as plt\n",
    "import librosa\n",
    "import librosa.display\n",
    "import sklearn as sk\n",
    "\n",
    "from sklearn.preprocessing import StandardScaler\n",
    "from sklearn.neural_network import MLPClassifier\n",
    "from sklearn.metrics import classification_report, confusion_matrix\n",
    "\n",
    "%matplotlib inline"
   ]
  },
  {
   "cell_type": "markdown",
   "metadata": {},
   "source": [
    "#### Reading and labeling data"
   ]
  },
  {
   "cell_type": "code",
   "execution_count": 2,
   "metadata": {},
   "outputs": [
    {
     "data": {
      "text/html": [
       "<div>\n",
       "<style scoped>\n",
       "    .dataframe tbody tr th:only-of-type {\n",
       "        vertical-align: middle;\n",
       "    }\n",
       "\n",
       "    .dataframe tbody tr th {\n",
       "        vertical-align: top;\n",
       "    }\n",
       "\n",
       "    .dataframe thead th {\n",
       "        text-align: right;\n",
       "    }\n",
       "</style>\n",
       "<table border=\"1\" class=\"dataframe\">\n",
       "  <thead>\n",
       "    <tr style=\"text-align: right;\">\n",
       "      <th></th>\n",
       "      <th>mfcc</th>\n",
       "      <th>gender</th>\n",
       "      <th>emotion</th>\n",
       "    </tr>\n",
       "  </thead>\n",
       "  <tbody>\n",
       "    <tr>\n",
       "      <th>0</th>\n",
       "      <td>[-855.3770751953125, -855.3770751953125, -855....</td>\n",
       "      <td>0</td>\n",
       "      <td>neutral</td>\n",
       "    </tr>\n",
       "    <tr>\n",
       "      <th>1</th>\n",
       "      <td>[-850.3917236328125, -850.435791015625, -850.4...</td>\n",
       "      <td>0</td>\n",
       "      <td>neutral</td>\n",
       "    </tr>\n",
       "    <tr>\n",
       "      <th>2</th>\n",
       "      <td>[-849.78369140625, -848.8447265625, -848.56610...</td>\n",
       "      <td>0</td>\n",
       "      <td>neutral</td>\n",
       "    </tr>\n",
       "    <tr>\n",
       "      <th>3</th>\n",
       "      <td>[-842.9385375976562, -843.2474975585938, -850....</td>\n",
       "      <td>0</td>\n",
       "      <td>neutral</td>\n",
       "    </tr>\n",
       "    <tr>\n",
       "      <th>4</th>\n",
       "      <td>[-911.1758422851562, -910.4053344726562, -905....</td>\n",
       "      <td>0</td>\n",
       "      <td>calm</td>\n",
       "    </tr>\n",
       "  </tbody>\n",
       "</table>\n",
       "</div>"
      ],
      "text/plain": [
       "                                                mfcc  gender  emotion\n",
       "0  [-855.3770751953125, -855.3770751953125, -855....       0  neutral\n",
       "1  [-850.3917236328125, -850.435791015625, -850.4...       0  neutral\n",
       "2  [-849.78369140625, -848.8447265625, -848.56610...       0  neutral\n",
       "3  [-842.9385375976562, -843.2474975585938, -850....       0  neutral\n",
       "4  [-911.1758422851562, -910.4053344726562, -905....       0     calm"
      ]
     },
     "execution_count": 2,
     "metadata": {},
     "output_type": "execute_result"
    }
   ],
   "source": [
    "audio_data = np.load(\"audio_data.npy\")\n",
    "labels = np.load(\"wav_labels.npy\")\n",
    "\n",
    "# labels: modality-vocal channel-emotion-emotional intensity-statement-repetition-actor\n",
    "# emotions: 01 = neutral, 02 = calm, 03 = happy, 04 = sad, 05 = angry, 06 = fearful, 07 = disgust, 08 = surprised\n",
    "# odd number actors = male, even = female\n",
    "\n",
    "# 1440 files: 24 speakers, 60 recordings per speaker\n",
    "audio_data = audio_data.reshape(1440, 9480)\n",
    "\n",
    "features = []\n",
    "\n",
    "for i in range(1440):\n",
    "    #female = 1\n",
    "    #male = 0\n",
    "    if (labels[i][6]%2 == 0):\n",
    "        label = 1\n",
    "    else:\n",
    "        label = 0\n",
    "\n",
    "    if (labels[i][2] == 1):\n",
    "        em = \"neutral\"\n",
    "    elif (labels[i][2] == 2):\n",
    "        em = \"calm\"\n",
    "    elif (labels[i][2] == 3):\n",
    "        em = \"happy\"\n",
    "    elif (labels[i][2] == 4):\n",
    "        em = \"sad\"\n",
    "    elif (labels[i][2] == 5):\n",
    "        em = \"angry\"\n",
    "    elif (labels[i][2] == 6):\n",
    "        em = \"fearful\"\n",
    "    elif (labels[i][2] == 7):\n",
    "        em = \"disgust\"\n",
    "    elif (labels[i][2] == 8):\n",
    "        em = \"surprised\"\n",
    "    \n",
    "    features.append([audio_data[i], label, em])\n",
    "\n",
    "\n",
    "    \n",
    "feature_df = pd.DataFrame(features, columns = [\"mfcc\", \"gender\", \"emotion\"])\n",
    "\n",
    "feature_df.head()\n"
   ]
  },
  {
   "cell_type": "code",
   "execution_count": 3,
   "metadata": {},
   "outputs": [],
   "source": [
    "## ===== Males ===== ##\n",
    "X = np.array(feature_df.mfcc.tolist())\n",
    "y = np.array(feature_df.emotion.tolist())\n",
    "\n",
    "#20-80 train-test split\n",
    "X_train, X_test, y_train, y_test = sk.model_selection.train_test_split(X, y, test_size=0.20, random_state=0)"
   ]
  },
  {
   "cell_type": "code",
   "execution_count": 4,
   "metadata": {},
   "outputs": [],
   "source": [
    "#regularization\n",
    "scaler = StandardScaler()\n",
    "scaler.fit(X_train)\n",
    "\n",
    "X_train = scaler.transform(X_train)\n",
    "X_test = scaler.transform(X_test)"
   ]
  },
  {
   "cell_type": "code",
   "execution_count": 26,
   "metadata": {},
   "outputs": [],
   "source": [
    "#Training and Predictions\n",
    "mlp = MLPClassifier(hidden_layer_sizes=(10, 15, 10), max_iter=1000)\n",
    "mlp.fit(X_train, y_train)\n",
    "\n",
    "predictions = mlp.predict(X_test)"
   ]
  },
  {
   "cell_type": "code",
   "execution_count": 27,
   "metadata": {},
   "outputs": [
    {
     "name": "stdout",
     "output_type": "stream",
     "text": [
      "Emotion Classification\n",
      "   neutral  calm  happy  sad  angry  fearful  disgust  surprised\n",
      "0       23     1      5    0      4        0        0          1\n",
      "1        0    22      2    0      0        4       14          2\n",
      "2        3     2     19    1      0        0        3          3\n",
      "3        3     4      1   15     11        0        4          3\n",
      "4        2     1      2    2     17        2        3          4\n",
      "5        0     5      1    1      3        9        4          2\n",
      "6        2     4      0    5      5        1       18          3\n",
      "7        4     0      4    3      6        0        6         19\n"
     ]
    },
    {
     "data": {
      "image/png": "[encoded data removed]",
      "text/plain": [
       "<Figure size 720x288 with 1 Axes>"
      ]
     },
     "metadata": {
      "needs_background": "light"
     },
     "output_type": "display_data"
    },
    {
     "name": "stdout",
     "output_type": "stream",
     "text": [
      "Classification by Gender Precision: 0.5114794809687713\n",
      "              precision    recall  f1-score   support\n",
      "\n",
      "       angry       0.62      0.68      0.65        34\n",
      "        calm       0.56      0.50      0.53        44\n",
      "     disgust       0.56      0.61      0.58        31\n",
      "     fearful       0.56      0.37      0.44        41\n",
      "       happy       0.37      0.52      0.43        33\n",
      "     neutral       0.56      0.36      0.44        25\n",
      "         sad       0.35      0.47      0.40        38\n",
      "   surprised       0.51      0.45      0.48        42\n",
      "\n",
      "    accuracy                           0.49       288\n",
      "   macro avg       0.51      0.49      0.49       288\n",
      "weighted avg       0.51      0.49      0.49       288\n",
      "\n"
     ]
    }
   ],
   "source": [
    "#Algorithm Evaluation\n",
    "print(\"Emotion Classification\")\n",
    "cm = confusion_matrix(y_test,predictions)\n",
    "df = pd.DataFrame(cm, columns=[y[0], y[4], y[12], y[20], y[28], y[36], y[44], y[52] ])\n",
    "print(df)\n",
    "      \n",
    "#figure for confusion matrix\n",
    "plt.figure(figsize=(10,4))\n",
    "plt.imshow(cm)\n",
    "plt.title(\"Confusion Matrix\")\n",
    "plt.show()\n",
    "\n",
    "#precision function\n",
    "def precision(confmatrix):\n",
    "    # precision = tp/(tp+fp)\n",
    "    tp = np.diag(confmatrix)\n",
    "    fp = np.sum(confmatrix, axis=0) - tp\n",
    "    precision = np.mean(tp/(tp+fp))\n",
    "    return precision\n",
    "\n",
    "#print calculated precision\n",
    "prec = precision(cm)\n",
    "print(\"Classification by Gender Precision: \" + str(prec))\n",
    "#print metrics report\n",
    "print(classification_report(y_test,predictions))"
   ]
  },
  {
   "cell_type": "code",
   "execution_count": null,
   "metadata": {},
   "outputs": [],
   "source": []
  }
 ],
 "metadata": {
  "kernelspec": {
   "display_name": "Python 3",
   "language": "python",
   "name": "python3"
  },
  "language_info": {
   "codemirror_mode": {
    "name": "ipython",
    "version": 3
   },
   "file_extension": ".py",
   "mimetype": "text/x-python",
   "name": "python",
   "nbconvert_exporter": "python",
   "pygments_lexer": "ipython3",
   "version": "3.8.3"
  }
 },
 "nbformat": 4,
 "nbformat_minor": 4
}
