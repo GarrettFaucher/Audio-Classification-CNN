{
 "cells": [
  {
   "cell_type": "markdown",
   "metadata": {},
   "source": [
    "# Voice Emotion Classification Neural Network Using MFCC by Gender"
   ]
  },
  {
   "cell_type": "markdown",
   "metadata": {},
   "source": [
    "Imports"
   ]
  },
  {
   "cell_type": "code",
   "execution_count": 19,
   "metadata": {},
   "outputs": [],
   "source": [
    "import numpy as np\n",
    "import pandas as pd\n",
    "import matplotlib.pyplot as plt\n",
    "import librosa\n",
    "import librosa.display\n",
    "import sklearn as sk\n",
    "\n",
    "from sklearn.preprocessing import StandardScaler\n",
    "from sklearn.neural_network import MLPClassifier\n",
    "from sklearn.metrics import classification_report, confusion_matrix\n",
    "\n",
    "%matplotlib inline"
   ]
  },
  {
   "cell_type": "markdown",
   "metadata": {},
   "source": [
    "#### Reading and labeling data"
   ]
  },
  {
   "cell_type": "code",
   "execution_count": 20,
   "metadata": {},
   "outputs": [
    {
     "data": {
      "text/html": [
       "<div>\n",
       "<style scoped>\n",
       "    .dataframe tbody tr th:only-of-type {\n",
       "        vertical-align: middle;\n",
       "    }\n",
       "\n",
       "    .dataframe tbody tr th {\n",
       "        vertical-align: top;\n",
       "    }\n",
       "\n",
       "    .dataframe thead th {\n",
       "        text-align: right;\n",
       "    }\n",
       "</style>\n",
       "<table border=\"1\" class=\"dataframe\">\n",
       "  <thead>\n",
       "    <tr style=\"text-align: right;\">\n",
       "      <th></th>\n",
       "      <th>mfcc</th>\n",
       "      <th>gender</th>\n",
       "      <th>emotion</th>\n",
       "    </tr>\n",
       "  </thead>\n",
       "  <tbody>\n",
       "    <tr>\n",
       "      <th>0</th>\n",
       "      <td>[-855.3770751953125, -855.3770751953125, -855....</td>\n",
       "      <td>Male</td>\n",
       "      <td>neutral</td>\n",
       "    </tr>\n",
       "    <tr>\n",
       "      <th>1</th>\n",
       "      <td>[-850.3917236328125, -850.435791015625, -850.4...</td>\n",
       "      <td>Male</td>\n",
       "      <td>neutral</td>\n",
       "    </tr>\n",
       "    <tr>\n",
       "      <th>2</th>\n",
       "      <td>[-849.78369140625, -848.8447265625, -848.56610...</td>\n",
       "      <td>Male</td>\n",
       "      <td>neutral</td>\n",
       "    </tr>\n",
       "    <tr>\n",
       "      <th>3</th>\n",
       "      <td>[-842.9385375976562, -843.2474975585938, -850....</td>\n",
       "      <td>Male</td>\n",
       "      <td>neutral</td>\n",
       "    </tr>\n",
       "    <tr>\n",
       "      <th>4</th>\n",
       "      <td>[-911.1758422851562, -910.4053344726562, -905....</td>\n",
       "      <td>Male</td>\n",
       "      <td>calm</td>\n",
       "    </tr>\n",
       "  </tbody>\n",
       "</table>\n",
       "</div>"
      ],
      "text/plain": [
       "                                                mfcc gender  emotion\n",
       "0  [-855.3770751953125, -855.3770751953125, -855....   Male  neutral\n",
       "1  [-850.3917236328125, -850.435791015625, -850.4...   Male  neutral\n",
       "2  [-849.78369140625, -848.8447265625, -848.56610...   Male  neutral\n",
       "3  [-842.9385375976562, -843.2474975585938, -850....   Male  neutral\n",
       "4  [-911.1758422851562, -910.4053344726562, -905....   Male     calm"
      ]
     },
     "execution_count": 20,
     "metadata": {},
     "output_type": "execute_result"
    }
   ],
   "source": [
    "audio_data = np.load(\"audio_data.npy\")\n",
    "labels = np.load(\"wav_labels.npy\")\n",
    "\n",
    "# labels: modality-vocal channel-emotion-emotional intensity-statement-repetition-actor\n",
    "# emotions: 01 = neutral, 02 = calm, 03 = happy, 04 = sad, 05 = angry, 06 = fearful, 07 = disgust, 08 = surprised\n",
    "# odd number actors = male, even = female\n",
    "\n",
    "# 1440 files: 24 speakers, 60 recordings per speaker\n",
    "audio_data = audio_data.reshape(1440, 9480)\n",
    "\n",
    "features = []\n",
    "\n",
    "for i in range(1440):\n",
    "    \n",
    "    if (labels[i][6]%2 == 0):\n",
    "        label = \"Female\"\n",
    "    else:\n",
    "        label = \"Male\"\n",
    "\n",
    "    if (labels[i][2] == 1):\n",
    "        em = \"neutral\"\n",
    "    elif (labels[i][2] == 2):\n",
    "        em = \"calm\"\n",
    "    elif (labels[i][2] == 3):\n",
    "        em = \"happy\"\n",
    "    elif (labels[i][2] == 4):\n",
    "        em = \"sad\"\n",
    "    elif (labels[i][2] == 5):\n",
    "        em = \"angry\"\n",
    "    elif (labels[i][2] == 6):\n",
    "        em = \"fearful\"\n",
    "    elif (labels[i][2] == 7):\n",
    "        em = \"disgust\"\n",
    "    elif (labels[i][2] == 8):\n",
    "        em = \"surprised\"\n",
    "    \n",
    "    features.append([audio_data[i], label, em])\n",
    "\n",
    "\n",
    "    \n",
    "feature_df = pd.DataFrame(features, columns = [\"mfcc\", \"gender\", \"emotion\"])\n",
    "\n",
    "feature_df.head()\n"
   ]
  },
  {
   "cell_type": "markdown",
   "metadata": {},
   "source": [
    "#### Split Males vs Female Data"
   ]
  },
  {
   "cell_type": "code",
   "execution_count": 21,
   "metadata": {},
   "outputs": [],
   "source": [
    "#split data - males vs females\n",
    "mal = feature_df.loc[feature_df['gender'] == \"Male\"]\n",
    "fem = feature_df.loc[feature_df['gender'] == \"Female\"]"
   ]
  },
  {
   "cell_type": "markdown",
   "metadata": {},
   "source": [
    "#### Males Data"
   ]
  },
  {
   "cell_type": "code",
   "execution_count": 22,
   "metadata": {},
   "outputs": [
    {
     "data": {
      "text/html": [
       "<div>\n",
       "<style scoped>\n",
       "    .dataframe tbody tr th:only-of-type {\n",
       "        vertical-align: middle;\n",
       "    }\n",
       "\n",
       "    .dataframe tbody tr th {\n",
       "        vertical-align: top;\n",
       "    }\n",
       "\n",
       "    .dataframe thead th {\n",
       "        text-align: right;\n",
       "    }\n",
       "</style>\n",
       "<table border=\"1\" class=\"dataframe\">\n",
       "  <thead>\n",
       "    <tr style=\"text-align: right;\">\n",
       "      <th></th>\n",
       "      <th>mfcc</th>\n",
       "      <th>gender</th>\n",
       "      <th>emotion</th>\n",
       "    </tr>\n",
       "  </thead>\n",
       "  <tbody>\n",
       "    <tr>\n",
       "      <th>0</th>\n",
       "      <td>[-855.3770751953125, -855.3770751953125, -855....</td>\n",
       "      <td>Male</td>\n",
       "      <td>neutral</td>\n",
       "    </tr>\n",
       "    <tr>\n",
       "      <th>1</th>\n",
       "      <td>[-850.3917236328125, -850.435791015625, -850.4...</td>\n",
       "      <td>Male</td>\n",
       "      <td>neutral</td>\n",
       "    </tr>\n",
       "    <tr>\n",
       "      <th>2</th>\n",
       "      <td>[-849.78369140625, -848.8447265625, -848.56610...</td>\n",
       "      <td>Male</td>\n",
       "      <td>neutral</td>\n",
       "    </tr>\n",
       "    <tr>\n",
       "      <th>3</th>\n",
       "      <td>[-842.9385375976562, -843.2474975585938, -850....</td>\n",
       "      <td>Male</td>\n",
       "      <td>neutral</td>\n",
       "    </tr>\n",
       "    <tr>\n",
       "      <th>4</th>\n",
       "      <td>[-911.1758422851562, -910.4053344726562, -905....</td>\n",
       "      <td>Male</td>\n",
       "      <td>calm</td>\n",
       "    </tr>\n",
       "    <tr>\n",
       "      <th>...</th>\n",
       "      <td>...</td>\n",
       "      <td>...</td>\n",
       "      <td>...</td>\n",
       "    </tr>\n",
       "    <tr>\n",
       "      <th>1375</th>\n",
       "      <td>[-690.5613403320312, -690.7261352539062, -690....</td>\n",
       "      <td>Male</td>\n",
       "      <td>surprised</td>\n",
       "    </tr>\n",
       "    <tr>\n",
       "      <th>1376</th>\n",
       "      <td>[-692.3702392578125, -691.9732666015625, -691....</td>\n",
       "      <td>Male</td>\n",
       "      <td>surprised</td>\n",
       "    </tr>\n",
       "    <tr>\n",
       "      <th>1377</th>\n",
       "      <td>[-675.92529296875, -675.6678466796875, -675.64...</td>\n",
       "      <td>Male</td>\n",
       "      <td>surprised</td>\n",
       "    </tr>\n",
       "    <tr>\n",
       "      <th>1378</th>\n",
       "      <td>[-660.3748168945312, -660.3748168945312, -660....</td>\n",
       "      <td>Male</td>\n",
       "      <td>surprised</td>\n",
       "    </tr>\n",
       "    <tr>\n",
       "      <th>1379</th>\n",
       "      <td>[-686.43896484375, -686.43896484375, -686.4389...</td>\n",
       "      <td>Male</td>\n",
       "      <td>surprised</td>\n",
       "    </tr>\n",
       "  </tbody>\n",
       "</table>\n",
       "<p>720 rows × 3 columns</p>\n",
       "</div>"
      ],
      "text/plain": [
       "                                                   mfcc gender    emotion\n",
       "0     [-855.3770751953125, -855.3770751953125, -855....   Male    neutral\n",
       "1     [-850.3917236328125, -850.435791015625, -850.4...   Male    neutral\n",
       "2     [-849.78369140625, -848.8447265625, -848.56610...   Male    neutral\n",
       "3     [-842.9385375976562, -843.2474975585938, -850....   Male    neutral\n",
       "4     [-911.1758422851562, -910.4053344726562, -905....   Male       calm\n",
       "...                                                 ...    ...        ...\n",
       "1375  [-690.5613403320312, -690.7261352539062, -690....   Male  surprised\n",
       "1376  [-692.3702392578125, -691.9732666015625, -691....   Male  surprised\n",
       "1377  [-675.92529296875, -675.6678466796875, -675.64...   Male  surprised\n",
       "1378  [-660.3748168945312, -660.3748168945312, -660....   Male  surprised\n",
       "1379  [-686.43896484375, -686.43896484375, -686.4389...   Male  surprised\n",
       "\n",
       "[720 rows x 3 columns]"
      ]
     },
     "execution_count": 22,
     "metadata": {},
     "output_type": "execute_result"
    }
   ],
   "source": [
    "mal"
   ]
  },
  {
   "cell_type": "markdown",
   "metadata": {},
   "source": [
    "#### Females Data"
   ]
  },
  {
   "cell_type": "code",
   "execution_count": 23,
   "metadata": {},
   "outputs": [
    {
     "data": {
      "text/html": [
       "<div>\n",
       "<style scoped>\n",
       "    .dataframe tbody tr th:only-of-type {\n",
       "        vertical-align: middle;\n",
       "    }\n",
       "\n",
       "    .dataframe tbody tr th {\n",
       "        vertical-align: top;\n",
       "    }\n",
       "\n",
       "    .dataframe thead th {\n",
       "        text-align: right;\n",
       "    }\n",
       "</style>\n",
       "<table border=\"1\" class=\"dataframe\">\n",
       "  <thead>\n",
       "    <tr style=\"text-align: right;\">\n",
       "      <th></th>\n",
       "      <th>mfcc</th>\n",
       "      <th>gender</th>\n",
       "      <th>emotion</th>\n",
       "    </tr>\n",
       "  </thead>\n",
       "  <tbody>\n",
       "    <tr>\n",
       "      <th>60</th>\n",
       "      <td>[-821.495849609375, -821.495849609375, -821.49...</td>\n",
       "      <td>Female</td>\n",
       "      <td>neutral</td>\n",
       "    </tr>\n",
       "    <tr>\n",
       "      <th>61</th>\n",
       "      <td>[-820.0106811523438, -820.0106811523438, -820....</td>\n",
       "      <td>Female</td>\n",
       "      <td>neutral</td>\n",
       "    </tr>\n",
       "    <tr>\n",
       "      <th>62</th>\n",
       "      <td>[-782.8099365234375, -782.8099365234375, -782....</td>\n",
       "      <td>Female</td>\n",
       "      <td>neutral</td>\n",
       "    </tr>\n",
       "    <tr>\n",
       "      <th>63</th>\n",
       "      <td>[-814.5337524414062, -813.1904907226562, -812....</td>\n",
       "      <td>Female</td>\n",
       "      <td>neutral</td>\n",
       "    </tr>\n",
       "    <tr>\n",
       "      <th>64</th>\n",
       "      <td>[-853.9297485351562, -853.9297485351562, -853....</td>\n",
       "      <td>Female</td>\n",
       "      <td>calm</td>\n",
       "    </tr>\n",
       "    <tr>\n",
       "      <th>...</th>\n",
       "      <td>...</td>\n",
       "      <td>...</td>\n",
       "      <td>...</td>\n",
       "    </tr>\n",
       "    <tr>\n",
       "      <th>1435</th>\n",
       "      <td>[-767.8106689453125, -767.8106689453125, -767....</td>\n",
       "      <td>Female</td>\n",
       "      <td>surprised</td>\n",
       "    </tr>\n",
       "    <tr>\n",
       "      <th>1436</th>\n",
       "      <td>[-709.0200805664062, -709.0200805664062, -709....</td>\n",
       "      <td>Female</td>\n",
       "      <td>surprised</td>\n",
       "    </tr>\n",
       "    <tr>\n",
       "      <th>1437</th>\n",
       "      <td>[-739.8688354492188, -739.8688354492188, -739....</td>\n",
       "      <td>Female</td>\n",
       "      <td>surprised</td>\n",
       "    </tr>\n",
       "    <tr>\n",
       "      <th>1438</th>\n",
       "      <td>[-718.31494140625, -718.31494140625, -718.3149...</td>\n",
       "      <td>Female</td>\n",
       "      <td>surprised</td>\n",
       "    </tr>\n",
       "    <tr>\n",
       "      <th>1439</th>\n",
       "      <td>[-701.2501831054688, -701.2501831054688, -701....</td>\n",
       "      <td>Female</td>\n",
       "      <td>surprised</td>\n",
       "    </tr>\n",
       "  </tbody>\n",
       "</table>\n",
       "<p>720 rows × 3 columns</p>\n",
       "</div>"
      ],
      "text/plain": [
       "                                                   mfcc  gender    emotion\n",
       "60    [-821.495849609375, -821.495849609375, -821.49...  Female    neutral\n",
       "61    [-820.0106811523438, -820.0106811523438, -820....  Female    neutral\n",
       "62    [-782.8099365234375, -782.8099365234375, -782....  Female    neutral\n",
       "63    [-814.5337524414062, -813.1904907226562, -812....  Female    neutral\n",
       "64    [-853.9297485351562, -853.9297485351562, -853....  Female       calm\n",
       "...                                                 ...     ...        ...\n",
       "1435  [-767.8106689453125, -767.8106689453125, -767....  Female  surprised\n",
       "1436  [-709.0200805664062, -709.0200805664062, -709....  Female  surprised\n",
       "1437  [-739.8688354492188, -739.8688354492188, -739....  Female  surprised\n",
       "1438  [-718.31494140625, -718.31494140625, -718.3149...  Female  surprised\n",
       "1439  [-701.2501831054688, -701.2501831054688, -701....  Female  surprised\n",
       "\n",
       "[720 rows x 3 columns]"
      ]
     },
     "execution_count": 23,
     "metadata": {},
     "output_type": "execute_result"
    }
   ],
   "source": [
    "fem"
   ]
  },
  {
   "cell_type": "code",
   "execution_count": 24,
   "metadata": {},
   "outputs": [],
   "source": [
    "## ===== Males ===== ##\n",
    "X_males = np.array(mal.mfcc.tolist())\n",
    "y_males = np.array(mal.emotion.tolist())\n",
    "\n",
    "#20-80 train-test split\n",
    "X_train_males, X_test_males, y_train_males, y_test_males = sk.model_selection.train_test_split(X_males, y_males, test_size=0.20, random_state=0)\n",
    "\n",
    "## ===== Females ===== ##\n",
    "X_females = np.array(fem.mfcc.tolist())\n",
    "y_females = np.array(fem.emotion.tolist())\n",
    "\n",
    "#20-80 train-test split\n",
    "X_train_females, X_test_females, y_train_females, y_test_females = sk.model_selection.train_test_split(X_females, y_females, test_size=0.20, random_state=0)"
   ]
  },
  {
   "cell_type": "markdown",
   "metadata": {},
   "source": [
    "#### Regularization"
   ]
  },
  {
   "cell_type": "code",
   "execution_count": 25,
   "metadata": {},
   "outputs": [],
   "source": [
    "## ===== Males ===== ##\n",
    "scaler_m = StandardScaler()\n",
    "scaler_m.fit(X_train_males)\n",
    "\n",
    "X_train_males = scaler_m.transform(X_train_males)\n",
    "X_test_males = scaler_m.transform(X_test_males)\n",
    "\n",
    "## ===== Females ===== ##\n",
    "scaler_f = StandardScaler()\n",
    "scaler_f.fit(X_train_females)\n",
    "\n",
    "X_train_females = scaler_f.transform(X_train_females)\n",
    "X_test_females = scaler_f.transform(X_test_females)"
   ]
  },
  {
   "cell_type": "markdown",
   "metadata": {},
   "source": [
    "#### Training and Predictions"
   ]
  },
  {
   "cell_type": "code",
   "execution_count": 37,
   "metadata": {},
   "outputs": [],
   "source": [
    "## ===== Males ===== ##\n",
    "mlp_m = MLPClassifier(hidden_layer_sizes=(10, 15, 10), max_iter=1000)\n",
    "mlp_m.fit(X_train_males, y_train_males)\n",
    "\n",
    "predictions_m = mlp_m.predict(X_test_males)\n",
    "\n",
    "## ===== Females ===== ##\n",
    "mlp_f = MLPClassifier(hidden_layer_sizes=(10, 15, 10), max_iter=1000)\n",
    "mlp_f.fit(X_train_females, y_train_females)\n",
    "\n",
    "predictions_f = mlp_f.predict(X_test_females)"
   ]
  },
  {
   "cell_type": "markdown",
   "metadata": {},
   "source": [
    "#### Algorithm Evaluation"
   ]
  },
  {
   "cell_type": "code",
   "execution_count": 38,
   "metadata": {},
   "outputs": [
    {
     "name": "stdout",
     "output_type": "stream",
     "text": [
      "Results: Males\n",
      "Emotion Classification\n",
      "   neutral  calm  happy  sad  angry  fearful  disgust  surprised\n",
      "0        8     1      2    0      0        0        1          3\n",
      "1        0    12      1    0      2        2        5          0\n",
      "2        2     2      6    0      1        2        2          1\n",
      "3        1     1      4    7      3        1        0          2\n",
      "4        3     1      4    1      8        1        0          1\n",
      "5        1     2      1    0      4        3        2          0\n",
      "6        1     5      2    1      0        1        7          1\n",
      "7        2     1      1    6      2        0        2          8\n"
     ]
    },
    {
     "data": {
      "image/png": "[encoded data removed]",
      "text/plain": [
       "<Figure size 720x288 with 1 Axes>"
      ]
     },
     "metadata": {
      "needs_background": "light"
     },
     "output_type": "display_data"
    },
    {
     "name": "stdout",
     "output_type": "stream",
     "text": [
      "Classification by Gender Precision: 0.40565580618212194\n",
      "              precision    recall  f1-score   support\n",
      "\n",
      "       angry       0.44      0.53      0.48        15\n",
      "        calm       0.48      0.55      0.51        22\n",
      "     disgust       0.29      0.38      0.32        16\n",
      "     fearful       0.47      0.37      0.41        19\n",
      "       happy       0.40      0.42      0.41        19\n",
      "     neutral       0.30      0.23      0.26        13\n",
      "         sad       0.37      0.39      0.38        18\n",
      "   surprised       0.50      0.36      0.42        22\n",
      "\n",
      "    accuracy                           0.41       144\n",
      "   macro avg       0.41      0.40      0.40       144\n",
      "weighted avg       0.42      0.41      0.41       144\n",
      "\n",
      "\n",
      "\n",
      "\n",
      "\n",
      "Results: Females\n",
      "Emotion Classification\n",
      "   neutral  calm  happy  sad  angry  fearful  disgust  surprised\n",
      "0        8     1      2    0      0        0        1          3\n",
      "1        0    12      1    0      2        2        5          0\n",
      "2        2     2      6    0      1        2        2          1\n",
      "3        1     1      4    7      3        1        0          2\n",
      "4        3     1      4    1      8        1        0          1\n",
      "5        1     2      1    0      4        3        2          0\n",
      "6        1     5      2    1      0        1        7          1\n",
      "7        2     1      1    6      2        0        2          8\n"
     ]
    },
    {
     "data": {
      "image/png": "[encoded data removed]",
      "text/plain": [
       "<Figure size 720x288 with 1 Axes>"
      ]
     },
     "metadata": {
      "needs_background": "light"
     },
     "output_type": "display_data"
    },
    {
     "name": "stdout",
     "output_type": "stream",
     "text": [
      "Classification by Gender Precision: 0.40565580618212194\n",
      "              precision    recall  f1-score   support\n",
      "\n",
      "       angry       0.69      0.73      0.71        15\n",
      "        calm       0.72      0.59      0.65        22\n",
      "     disgust       0.60      0.56      0.58        16\n",
      "     fearful       0.86      0.63      0.73        19\n",
      "       happy       0.38      0.53      0.44        19\n",
      "     neutral       0.33      0.15      0.21        13\n",
      "         sad       0.33      0.56      0.42        18\n",
      "   surprised       0.58      0.50      0.54        22\n",
      "\n",
      "    accuracy                           0.54       144\n",
      "   macro avg       0.56      0.53      0.53       144\n",
      "weighted avg       0.57      0.54      0.55       144\n",
      "\n"
     ]
    }
   ],
   "source": [
    "## ===== Males ===== ##\n",
    "print(\"Results: Males\")\n",
    "print(\"Emotion Classification\")\n",
    "cm_m = confusion_matrix(y_test_males,predictions_m)\n",
    "df = pd.DataFrame(cm_m, columns=[y_males[0], y_males[4], y_males[12], y_males[20], y_males[28], y_males[36], y_males[44], y_males[52] ])\n",
    "print(df)\n",
    "      \n",
    "#figure for confusion matrix\n",
    "plt.figure(figsize=(10,4))\n",
    "plt.imshow(cm_m)\n",
    "plt.title(\"Confusion Matrix\")\n",
    "plt.show()\n",
    "\n",
    "#precision function\n",
    "def precision(confmatrix):\n",
    "    # precision = tp/(tp+fp)\n",
    "    tp = np.diag(confmatrix)\n",
    "    fp = np.sum(confmatrix, axis=0) - tp\n",
    "    precision = np.mean(tp/(tp+fp))\n",
    "    return precision\n",
    "\n",
    "#print calculated precision\n",
    "prec_m = precision(cm_m)\n",
    "print(\"Classification by Gender Precision: \" + str(prec_m))\n",
    "#print metrics report\n",
    "print(classification_report(y_test_males,predictions_m))\n",
    "\n",
    "## ===== Females ===== ##\n",
    "print(\"\\n\\n\\n\")\n",
    "print(\"Results: Females\")\n",
    "print(\"Emotion Classification\")\n",
    "cm_f = confusion_matrix(y_test_males,predictions_m)\n",
    "df = pd.DataFrame(cm_f, columns=[y_females[0], y_females[4], y_females[12], y_females[20], y_females[28], y_females[36], y_females[44], y_females[52] ])\n",
    "print(df)\n",
    "      \n",
    "#figure for confusion matrix\n",
    "plt.figure(figsize=(10,4))\n",
    "plt.imshow(cm_f)\n",
    "plt.title(\"Confusion Matrix\")\n",
    "plt.show()\n",
    "\n",
    "#print calculated precision\n",
    "prec_f = precision(cm_f)\n",
    "print(\"Classification by Gender Precision: \" + str(prec_f))\n",
    "#print metrics report\n",
    "print(classification_report(y_test_females,predictions_f))\n"
   ]
  },
  {
   "cell_type": "code",
   "execution_count": null,
   "metadata": {},
   "outputs": [],
   "source": []
  }
 ],
 "metadata": {
  "kernelspec": {
   "display_name": "Python 3",
   "language": "python",
   "name": "python3"
  },
  "language_info": {
   "codemirror_mode": {
    "name": "ipython",
    "version": 3
   },
   "file_extension": ".py",
   "mimetype": "text/x-python",
   "name": "python",
   "nbconvert_exporter": "python",
   "pygments_lexer": "ipython3",
   "version": "3.8.3"
  }
 },
 "nbformat": 4,
 "nbformat_minor": 4
}
