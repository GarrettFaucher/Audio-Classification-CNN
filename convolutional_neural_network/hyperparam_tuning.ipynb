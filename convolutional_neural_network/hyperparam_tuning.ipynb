{
 "metadata": {
  "language_info": {
   "codemirror_mode": {
    "name": "ipython",
    "version": 3
   },
   "file_extension": ".py",
   "mimetype": "text/x-python",
   "name": "python",
   "nbconvert_exporter": "python",
   "pygments_lexer": "ipython3",
   "version": "3.6.9-final"
  },
  "orig_nbformat": 2,
  "kernelspec": {
   "name": "python3",
   "display_name": "Python 3"
  }
 },
 "nbformat": 4,
 "nbformat_minor": 2,
 "cells": [
  {
   "source": [
    "# Convolutional Neural Network Using Mel Spectrogram Classifying Emotion Using One Gender"
   ],
   "cell_type": "markdown",
   "metadata": {}
  },
  {
   "cell_type": "code",
   "execution_count": 1,
   "metadata": {},
   "outputs": [],
   "source": [
    "from keras.models import Sequential\n",
    "from keras.layers import Activation, Dense, Dropout, Flatten, Conv2D, MaxPooling2D\n",
    "from keras.optimizers import SGD\n",
    "from keras.utils import to_categorical\n",
    "from sklearn.model_selection import train_test_split\n",
    "from kerastuner.tuners import RandomSearch\n",
    "from kerastuner.engine.hyperparameters import HyperParameters\n",
    "import pickle\n",
    "import librosa\n",
    "import matplotlib.pyplot as plt\n",
    "import numpy as np\n",
    "import pandas as pd\n",
    "import time\n",
    "\n",
    "%matplotlib inline"
   ]
  },
  {
   "cell_type": "code",
   "execution_count": 2,
   "metadata": {},
   "outputs": [
    {
     "output_type": "execute_result",
     "data": {
      "text/plain": [
       "                                                mfcc  gender  emotion\n",
       "0  [-710.0553588867188, -709.9026489257812, -711....  Female        0\n",
       "1  [-547.765625, -548.0353393554688, -548.6129760...  Female        2\n",
       "2  [-616.4595336914062, -615.7564697265625, -615....  Female        7\n",
       "3  [-739.8626098632812, -738.7739868164062, -735....  Female        1\n",
       "4  [-698.0630493164062, -697.3838500976562, -696....  Female        4"
      ],
      "text/html": "<div>\n<style scoped>\n    .dataframe tbody tr th:only-of-type {\n        vertical-align: middle;\n    }\n\n    .dataframe tbody tr th {\n        vertical-align: top;\n    }\n\n    .dataframe thead th {\n        text-align: right;\n    }\n</style>\n<table border=\"1\" class=\"dataframe\">\n  <thead>\n    <tr style=\"text-align: right;\">\n      <th></th>\n      <th>mfcc</th>\n      <th>gender</th>\n      <th>emotion</th>\n    </tr>\n  </thead>\n  <tbody>\n    <tr>\n      <th>0</th>\n      <td>[-710.0553588867188, -709.9026489257812, -711....</td>\n      <td>Female</td>\n      <td>0</td>\n    </tr>\n    <tr>\n      <th>1</th>\n      <td>[-547.765625, -548.0353393554688, -548.6129760...</td>\n      <td>Female</td>\n      <td>2</td>\n    </tr>\n    <tr>\n      <th>2</th>\n      <td>[-616.4595336914062, -615.7564697265625, -615....</td>\n      <td>Female</td>\n      <td>7</td>\n    </tr>\n    <tr>\n      <th>3</th>\n      <td>[-739.8626098632812, -738.7739868164062, -735....</td>\n      <td>Female</td>\n      <td>1</td>\n    </tr>\n    <tr>\n      <th>4</th>\n      <td>[-698.0630493164062, -697.3838500976562, -696....</td>\n      <td>Female</td>\n      <td>4</td>\n    </tr>\n  </tbody>\n</table>\n</div>"
     },
     "metadata": {},
     "execution_count": 2
    }
   ],
   "source": [
    "LOG_DIR = f\"{int(time.time())}\"\n",
    "\n",
    "audio_data = np.load(\"../data/audio_data.npy\")\n",
    "labels = np.load(\"../data/wav_labels.npy\")\n",
    "\n",
    "# labels: modality-vocal channel-emotion-emotional intensity-statement-repetition-actor\n",
    "# emotions: 01 = neutral, 02 = calm, 03 = happy, 04 = sad, 05 = angry, 06 = fearful, 07 = disgust, 08 = surprised\n",
    "# odd number actors = male, even = female\n",
    "\n",
    "# 1440 files: 24 speakers, 60 recordings per speaker\n",
    "audio_data = audio_data.reshape(1440, 9480)\n",
    "\n",
    "features = []\n",
    "\n",
    "for i in range(1440):\n",
    "    \n",
    "    if (labels[i][6]%2 == 0):\n",
    "        label = \"Female\"\n",
    "    else:\n",
    "        label = \"Male\"\n",
    "\n",
    "    if (labels[i][2] == 1):\n",
    "        em = 0\n",
    "    elif (labels[i][2] == 2):\n",
    "        em = 1\n",
    "    elif (labels[i][2] == 3):\n",
    "        em = 2\n",
    "    elif (labels[i][2] == 4):\n",
    "        em = 3\n",
    "    elif (labels[i][2] == 5):\n",
    "        em = 4\n",
    "    elif (labels[i][2] == 6):\n",
    "        em = 5\n",
    "    elif (labels[i][2] == 7):\n",
    "        em = 6\n",
    "    elif (labels[i][2] == 8):\n",
    "        em = 7\n",
    "    \n",
    "    features.append([audio_data[i], label, em])\n",
    "\n",
    "\n",
    "    \n",
    "feature_df = pd.DataFrame(features, columns = [\"mfcc\", \"gender\", \"emotion\"])\n",
    "\n",
    "feature_df.head()\n"
   ]
  },
  {
   "cell_type": "code",
   "execution_count": 3,
   "metadata": {},
   "outputs": [],
   "source": [
    "#split data - males vs females\n",
    "mal = feature_df.loc[feature_df['gender'] == \"Male\"]\n",
    "fem = feature_df.loc[feature_df['gender'] == \"Female\"]"
   ]
  },
  {
   "cell_type": "code",
   "execution_count": 4,
   "metadata": {},
   "outputs": [],
   "source": [
    "## ===== Males ===== ##\n",
    "X_males = np.array(mal.mfcc.tolist())\n",
    "y_males = np.array(mal.emotion.tolist())\n",
    "\n",
    "#20-80 train-test split\n",
    "X_train_males, X_test_males, y_train_males, y_test_males = train_test_split(X_males, y_males, test_size=0.20, random_state=0)\n",
    "\n",
    "## ===== Females ===== ##\n",
    "X_females = np.array(fem.mfcc.tolist())\n",
    "y_females = np.array(fem.emotion.tolist())\n",
    "\n",
    "#20-80 train-test split\n",
    "X_train_females, X_test_females, y_train_females, y_test_females = train_test_split(X_females, y_females, test_size=0.20, random_state=0)"
   ]
  },
  {
   "cell_type": "code",
   "execution_count": 5,
   "metadata": {},
   "outputs": [],
   "source": [
    "# Reshape for CNN input\n",
    "X_train_females = np.array([x.reshape( (20, 474, 1) ) for x in X_train_females])\n",
    "X_test_females = np.array([x.reshape( (20, 474, 1) ) for x in X_test_females])\n",
    "\n",
    "# One-Hot encoding for classes\n",
    "y_train_females = np.array(to_categorical(y_train_females, 8))\n",
    "y_test_females = np.array(to_categorical(y_test_females, 8))"
   ]
  },
  {
   "cell_type": "code",
   "execution_count": 6,
   "metadata": {},
   "outputs": [],
   "source": [
    "def build_model(hp):\n",
    "    model = Sequential()\n",
    "\n",
    "    model.add(Conv2D(hp.Int('input_units', min_value=32, max_value=256, step=32), (3,3), input_shape=X_test_females.shape[1:]))\n",
    "    model.add(Activation('relu'))\n",
    "    model.add(MaxPooling2D(pool_size=(2,2)))\n",
    "\n",
    "    for i in range(hp.Int(\"n_layers\", 1, 4)):\n",
    "        model.add(Conv2D(hp.Int(f'conv_{i}_units', min_value=32, max_value=256, step=32), (3,3)))\n",
    "        model.add(Activation('relu'))\n",
    "\n",
    "    model.add(Flatten())\n",
    "    model.add(Dense(64))\n",
    "\n",
    "    model.add(Dense(8))\n",
    "    model.add(Activation('softmax'))\n",
    "\n",
    "    model.compile(\n",
    "        optimizer=\"adam\",\n",
    "        loss=\"categorical_crossentropy\",\n",
    "        metrics=['accuracy'])\n",
    "\n",
    "    return model"
   ]
  },
  {
   "cell_type": "code",
   "execution_count": 7,
   "metadata": {},
   "outputs": [],
   "source": [
    "# model.fit(\n",
    "# \tx=X_train_females,\n",
    "# \ty=y_train_females,\n",
    "#     epochs=50,\n",
    "#     batch_size=32,\n",
    "#     validation_split=0.15,\n",
    "# \tverbose=0\n",
    "# )"
   ]
  },
  {
   "cell_type": "code",
   "execution_count": 8,
   "metadata": {},
   "outputs": [
    {
     "output_type": "stream",
     "name": "stdout",
     "text": [
      "Trial 1 Complete [00h 00m 13s]\nval_accuracy: 0.125\n\nBest val_accuracy So Far: 0.125\nTotal elapsed time: 00h 00m 13s\nINFO:tensorflow:Oracle triggered exit\n"
     ]
    }
   ],
   "source": [
    "tuner = RandomSearch(\n",
    "    build_model,\n",
    "    objective = \"val_accuracy\",\n",
    "    max_trials = 1,\n",
    "    executions_per_trial = 1,\n",
    "    directory = LOG_DIR\n",
    ")\n",
    "\n",
    "tuner.search(\n",
    "    x=X_train_females,\n",
    "    y=y_train_females,\n",
    "    epochs=20,\n",
    "    batch_size=64,\n",
    "    validation_data=(X_test_females, y_test_females)\n",
    ")"
   ]
  },
  {
   "cell_type": "code",
   "execution_count": 9,
   "metadata": {},
   "outputs": [
    {
     "output_type": "error",
     "ename": "NameError",
     "evalue": "name 'pickle' is not defined",
     "traceback": [
      "\u001b[0;31m---------------------------------------------------------------------------\u001b[0m",
      "\u001b[0;31mNameError\u001b[0m                                 Traceback (most recent call last)",
      "\u001b[0;32m<ipython-input-9-abc3db785a90>\u001b[0m in \u001b[0;36m<module>\u001b[0;34m\u001b[0m\n\u001b[1;32m      1\u001b[0m \u001b[0;32mwith\u001b[0m \u001b[0mopen\u001b[0m\u001b[0;34m(\u001b[0m\u001b[0;34mf\"tuner_{int(time.time())}.pkl\"\u001b[0m\u001b[0;34m,\u001b[0m \u001b[0;34m\"wb\"\u001b[0m\u001b[0;34m)\u001b[0m \u001b[0;32mas\u001b[0m \u001b[0mf\u001b[0m\u001b[0;34m:\u001b[0m\u001b[0;34m\u001b[0m\u001b[0;34m\u001b[0m\u001b[0m\n\u001b[0;32m----> 2\u001b[0;31m     \u001b[0mpickle\u001b[0m\u001b[0;34m.\u001b[0m\u001b[0mdump\u001b[0m\u001b[0;34m(\u001b[0m\u001b[0mtuner\u001b[0m\u001b[0;34m,\u001b[0m \u001b[0mf\u001b[0m\u001b[0;34m)\u001b[0m\u001b[0;34m\u001b[0m\u001b[0;34m\u001b[0m\u001b[0m\n\u001b[0m\u001b[1;32m      3\u001b[0m \u001b[0;34m\u001b[0m\u001b[0m\n\u001b[1;32m      4\u001b[0m \u001b[0mprint\u001b[0m\u001b[0;34m(\u001b[0m\u001b[0mtuner\u001b[0m\u001b[0;34m.\u001b[0m\u001b[0mget_best_hyperparameters\u001b[0m\u001b[0;34m(\u001b[0m\u001b[0;34m)\u001b[0m\u001b[0;34m[\u001b[0m\u001b[0;36m0\u001b[0m\u001b[0;34m]\u001b[0m\u001b[0;34m.\u001b[0m\u001b[0mvalues\u001b[0m\u001b[0;34m)\u001b[0m\u001b[0;34m\u001b[0m\u001b[0;34m\u001b[0m\u001b[0m\n",
      "\u001b[0;31mNameError\u001b[0m: name 'pickle' is not defined"
     ]
    }
   ],
   "source": [
    "with open(f\"tuner_{int(time.time())}.pkl\", \"wb\") as f:\n",
    "    pickle.dump(tuner, f)\n",
    "\n",
    "print(tuner.get_best_hyperparameters()[0].values)"
   ]
  }
 ]
}