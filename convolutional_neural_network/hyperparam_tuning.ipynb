{
 "metadata": {
  "language_info": {
   "codemirror_mode": {
    "name": "ipython",
    "version": 3
   },
   "file_extension": ".py",
   "mimetype": "text/x-python",
   "name": "python",
   "nbconvert_exporter": "python",
   "pygments_lexer": "ipython3",
   "version": "3.6.9-final"
  },
  "orig_nbformat": 2,
  "kernelspec": {
   "name": "python3",
   "display_name": "Python 3",
   "language": "python"
  }
 },
 "nbformat": 4,
 "nbformat_minor": 2,
 "cells": [
  {
   "source": [
    "# Hyperparam Tuning"
   ],
   "cell_type": "markdown",
   "metadata": {}
  },
  {
   "cell_type": "code",
   "execution_count": 1,
   "metadata": {},
   "outputs": [],
   "source": [
    "from keras.callbacks import EarlyStopping\n",
    "from keras.layers import Activation, Dense, Dropout, Flatten, Conv2D, MaxPooling2D, LeakyReLU\n",
    "from keras.models import Sequential\n",
    "from keras.optimizers import Adam\n",
    "from keras.regularizers import l2\n",
    "from keras.utils import to_categorical\n",
    "from kerastuner.tuners import RandomSearch\n",
    "from kerastuner.engine.hyperparameters import HyperParameters\n",
    "from sklearn.model_selection import train_test_split\n",
    "from sklearn.preprocessing import MinMaxScaler\n",
    "import pickle\n",
    "import matplotlib.pyplot as plt\n",
    "import numpy as np\n",
    "import pandas as pd\n",
    "import time\n",
    "\n",
    "%matplotlib inline"
   ]
  },
  {
   "cell_type": "code",
   "execution_count": 2,
   "metadata": {},
   "outputs": [
    {
     "output_type": "execute_result",
     "data": {
      "text/plain": [
       "                                                mfcc  gender  emotion\n",
       "0  [-710.0553588867188, -709.9026489257812, -711....  Female        0\n",
       "1  [-547.765625, -548.0353393554688, -548.6129760...  Female        2\n",
       "2  [-616.4595336914062, -615.7564697265625, -615....  Female        7\n",
       "3  [-739.8626098632812, -738.7739868164062, -735....  Female        1\n",
       "4  [-698.0630493164062, -697.3838500976562, -696....  Female        4"
      ],
      "text/html": "<div>\n<style scoped>\n    .dataframe tbody tr th:only-of-type {\n        vertical-align: middle;\n    }\n\n    .dataframe tbody tr th {\n        vertical-align: top;\n    }\n\n    .dataframe thead th {\n        text-align: right;\n    }\n</style>\n<table border=\"1\" class=\"dataframe\">\n  <thead>\n    <tr style=\"text-align: right;\">\n      <th></th>\n      <th>mfcc</th>\n      <th>gender</th>\n      <th>emotion</th>\n    </tr>\n  </thead>\n  <tbody>\n    <tr>\n      <th>0</th>\n      <td>[-710.0553588867188, -709.9026489257812, -711....</td>\n      <td>Female</td>\n      <td>0</td>\n    </tr>\n    <tr>\n      <th>1</th>\n      <td>[-547.765625, -548.0353393554688, -548.6129760...</td>\n      <td>Female</td>\n      <td>2</td>\n    </tr>\n    <tr>\n      <th>2</th>\n      <td>[-616.4595336914062, -615.7564697265625, -615....</td>\n      <td>Female</td>\n      <td>7</td>\n    </tr>\n    <tr>\n      <th>3</th>\n      <td>[-739.8626098632812, -738.7739868164062, -735....</td>\n      <td>Female</td>\n      <td>1</td>\n    </tr>\n    <tr>\n      <th>4</th>\n      <td>[-698.0630493164062, -697.3838500976562, -696....</td>\n      <td>Female</td>\n      <td>4</td>\n    </tr>\n  </tbody>\n</table>\n</div>"
     },
     "metadata": {},
     "execution_count": 2
    }
   ],
   "source": [
    "audio_data = np.load(\"../data/audio_data.npy\")\n",
    "labels = np.load(\"../data/wav_labels.npy\")\n",
    "NUM_SAMPLES = 1440\n",
    "LOG_DIR = f\"{int(time.time())}\"\n",
    "\n",
    "# labels: modality-vocal channel-emotion-emotional intensity-statement-repetition-actor\n",
    "# emotions: 01 = neutral, 02 = calm, 03 = happy, 04 = sad, 05 = angry, 06 = fearful, 07 = disgust, 08 = surprised\n",
    "# odd number actors = male, even = female\n",
    "\n",
    "# 1440 files: 24 speakers, 60 recordings per speaker\n",
    "audio_data = audio_data.reshape(NUM_SAMPLES, 9480)\n",
    "\n",
    "features = []\n",
    "\n",
    "for i in range(1440):\n",
    "    if (labels[i][6]%2 == 0):\n",
    "        label = \"Female\"\n",
    "    else:\n",
    "        label = \"Male\"\n",
    "    features.append([audio_data[i], label, int(labels[i][2])-1])\n",
    "    \n",
    "feature_df = pd.DataFrame(features, columns = [\"mfcc\", \"gender\", \"emotion\"])\n",
    "\n",
    "feature_df.head()"
   ]
  },
  {
   "cell_type": "code",
   "execution_count": 3,
   "metadata": {},
   "outputs": [],
   "source": [
    "X = np.array(feature_df.mfcc.tolist())\n",
    "y = np.array(feature_df.emotion.tolist())\n",
    "\n",
    "scaler = MinMaxScaler(feature_range=(-1,1))\n",
    "scaler.fit(X)\n",
    "X_scaled = scaler.transform(X)\n",
    "\n",
    "#20-80 train-test split\n",
    "X_train, X_test, y_train, y_test = train_test_split(X_scaled, y, test_size=0.10, random_state=0)\n",
    "\n",
    "# Reshape for CNN input\n",
    "X_train = np.array([x.reshape( (20, 474, 1) ) for x in X_train])\n",
    "X_test = np.array([x.reshape( (20, 474, 1) ) for x in X_test])\n",
    "\n",
    "# One-Hot encoding for classes\n",
    "y_train = np.array(to_categorical(y_train, 8))\n",
    "y_test = np.array(to_categorical(y_test, 8))"
   ]
  },
  {
   "cell_type": "code",
   "execution_count": 4,
   "metadata": {},
   "outputs": [],
   "source": [
    "def build_model(hp):\n",
    "    model = Sequential()\n",
    "\n",
    "    MAX_SIZE = 96\n",
    "\n",
    "    kernel_size = hp.Int('kernel_size', min_value=64, max_value=MAX_SIZE, step=4)\n",
    "    stride_def = hp.Int('stride_def', min_value=2, max_value=8, step=1)\n",
    "    model.add(Conv2D(kernel_size, (stride_def,stride_def), input_shape=X_test.shape[1:]))\n",
    "    model.add(LeakyReLU(alpha=0.1))\n",
    "    model.add(MaxPooling2D(pool_size=(2,2)))\n",
    "\n",
    "    conv_1_units = hp.Int('conv_1_units', min_value=8, max_value=MAX_SIZE, step=8)\n",
    "    model.add(Conv2D(conv_1_units, (3,3)))\n",
    "    model.add(LeakyReLU(alpha=0.1))\n",
    "    model.add(Dropout(rate=hp.Int(f\"dropout_val_1\", 0, 2, 1) * 0.1))\n",
    "    \n",
    "    model.add(Conv2D(hp.Int('conv_2_units', min_value=8, max_value=conv_1_units, step=8), (3,3)))\n",
    "    model.add(LeakyReLU(alpha=0.1))\n",
    "    model.add(Dropout(rate=hp.Int(f\"dropout_val_2\", 0, 3, 1) * 0.1))\n",
    "\n",
    "    model.add(Flatten())\n",
    "    model.add(Dense(64))\n",
    "    model.add(LeakyReLU(alpha=0.1))\n",
    "\n",
    "    model.add(Dropout(rate=hp.Int(f\"dropout_end\", 0, 5, 1) * 0.1))\n",
    "    model.add(Dense(8))\n",
    "    model.add(Activation('softmax'))\n",
    "\n",
    "    opt = Adam(learning_rate=0.0005)\n",
    "\n",
    "    model.compile(\n",
    "        optimizer=opt,\n",
    "        loss=\"categorical_crossentropy\",\n",
    "        metrics=['accuracy'])\n",
    "\n",
    "    return model"
   ]
  },
  {
   "cell_type": "code",
   "execution_count": 5,
   "metadata": {
    "tags": []
   },
   "outputs": [
    {
     "output_type": "stream",
     "name": "stdout",
     "text": [
      "Trial 20 Complete [00h 00m 28s]\nval_accuracy: 0.6527777910232544\n\nBest val_accuracy So Far: 0.7361111044883728\nTotal elapsed time: 00h 09m 43s\nINFO:tensorflow:Oracle triggered exit\n"
     ]
    }
   ],
   "source": [
    "tuner = RandomSearch(\n",
    "    build_model,\n",
    "    objective = \"val_accuracy\",\n",
    "    max_trials = 20,\n",
    "    executions_per_trial = 1,\n",
    "    directory = LOG_DIR\n",
    ")\n",
    "\n",
    "tuner.search(\n",
    "    x=X_train,\n",
    "    y=y_train,\n",
    "    epochs=150,\n",
    "    batch_size=75,\n",
    "    callbacks=[EarlyStopping(monitor='loss', patience=3)],\n",
    "    validation_data=(X_test, y_test)\n",
    ")"
   ]
  },
  {
   "cell_type": "code",
   "execution_count": 8,
   "metadata": {},
   "outputs": [
    {
     "output_type": "stream",
     "name": "stdout",
     "text": [
      "{'kernel_size': 112, 'stride_def': 4, 'conv_1_units': 56, 'conv_2_units': 24, 'dropout_val_2': 2, 'conv_3_units': 128, 'dropout_val_3': 0}\n"
     ]
    }
   ],
   "source": [
    "with open(f\"tuner_{int(time.time())}.pkl\", \"wb\") as f:\n",
    "    pickle.dump(tuner, f)\n",
    "\n",
    "print(tuner.get_best_hyperparameters()[0].values)"
   ]
  }
 ]
}