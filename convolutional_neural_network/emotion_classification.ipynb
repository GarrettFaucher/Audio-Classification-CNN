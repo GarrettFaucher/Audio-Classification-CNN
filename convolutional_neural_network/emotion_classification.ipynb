{
 "metadata": {
  "language_info": {
   "codemirror_mode": {
    "name": "ipython",
    "version": 3
   },
   "file_extension": ".py",
   "mimetype": "text/x-python",
   "name": "python",
   "nbconvert_exporter": "python",
   "pygments_lexer": "ipython3",
   "version": "3.8.5-final"
  },
  "orig_nbformat": 2,
  "kernelspec": {
   "name": "python3",
   "display_name": "Python 3"
  }
 },
 "nbformat": 4,
 "nbformat_minor": 2,
 "cells": [
  {
   "source": [
    "# Convolutional Neural Network Using Mel Spectrogram Classifying Emotion Using One Gender"
   ],
   "cell_type": "markdown",
   "metadata": {}
  },
  {
   "cell_type": "code",
   "execution_count": 1,
   "metadata": {},
   "outputs": [],
   "source": [
    "from keras.models import Sequential\n",
    "from keras.layers import Activation, Dense, Dropout, Flatten, Conv2D, MaxPooling2D\n",
    "from keras.optimizers import SGD\n",
    "from keras.utils import to_categorical\n",
    "import librosa\n",
    "import matplotlib.pyplot as plt\n",
    "import numpy as np\n",
    "import pandas as pd\n",
    "from sklearn.model_selection import train_test_split\n",
    "\n",
    "%matplotlib inline"
   ]
  },
  {
   "cell_type": "code",
   "execution_count": 2,
   "metadata": {},
   "outputs": [
    {
     "output_type": "execute_result",
     "data": {
      "text/plain": [
       "                                            mel_spec gender  emotion\n",
       "0  [1.0769573011160105e-09, 2.8049595979240394e-1...   Male        0\n",
       "1  [8.10519740213067e-09, 2.3336452770195137e-09,...   Male        0\n",
       "2  [1.8761321030069666e-07, 2.7834460070153e-07, ...   Male        0\n",
       "3  [1.213315243830948e-07, 1.1905444097237705e-07...   Male        0\n",
       "4  [6.763266924281197e-08, 1.9553900187929685e-07...   Male        1"
      ],
      "text/html": "<div>\n<style scoped>\n    .dataframe tbody tr th:only-of-type {\n        vertical-align: middle;\n    }\n\n    .dataframe tbody tr th {\n        vertical-align: top;\n    }\n\n    .dataframe thead th {\n        text-align: right;\n    }\n</style>\n<table border=\"1\" class=\"dataframe\">\n  <thead>\n    <tr style=\"text-align: right;\">\n      <th></th>\n      <th>mel_spec</th>\n      <th>gender</th>\n      <th>emotion</th>\n    </tr>\n  </thead>\n  <tbody>\n    <tr>\n      <th>0</th>\n      <td>[1.0769573011160105e-09, 2.8049595979240394e-1...</td>\n      <td>Male</td>\n      <td>0</td>\n    </tr>\n    <tr>\n      <th>1</th>\n      <td>[8.10519740213067e-09, 2.3336452770195137e-09,...</td>\n      <td>Male</td>\n      <td>0</td>\n    </tr>\n    <tr>\n      <th>2</th>\n      <td>[1.8761321030069666e-07, 2.7834460070153e-07, ...</td>\n      <td>Male</td>\n      <td>0</td>\n    </tr>\n    <tr>\n      <th>3</th>\n      <td>[1.213315243830948e-07, 1.1905444097237705e-07...</td>\n      <td>Male</td>\n      <td>0</td>\n    </tr>\n    <tr>\n      <th>4</th>\n      <td>[6.763266924281197e-08, 1.9553900187929685e-07...</td>\n      <td>Male</td>\n      <td>1</td>\n    </tr>\n  </tbody>\n</table>\n</div>"
     },
     "metadata": {},
     "execution_count": 2
    }
   ],
   "source": [
    "audio_data = np.load(\"../data/audio_data_mel_spec.npy\")\n",
    "labels = np.load(\"../data/wav_labels.npy\")\n",
    "\n",
    "# labels: modality-vocal channel-emotion-emotional intensity-statement-repetition-actor\n",
    "# emotions: 01 = neutral, 02 = calm, 03 = happy, 04 = sad, 05 = angry, 06 = fearful, 07 = disgust, 08 = surprised\n",
    "# odd number actors = male, even = female\n",
    "\n",
    "# 1440 files: 24 speakers, 60 recordings per speaker\n",
    "audio_data = audio_data.reshape(1440, 16384)\n",
    "\n",
    "features = []\n",
    "\n",
    "for i in range(1440):\n",
    "    \n",
    "    if (labels[i][6]%2 == 0):\n",
    "        label = \"Female\"\n",
    "    else:\n",
    "        label = \"Male\"\n",
    "\n",
    "    if (labels[i][2] == 1):\n",
    "        em = 0\n",
    "    elif (labels[i][2] == 2):\n",
    "        em = 1\n",
    "    elif (labels[i][2] == 3):\n",
    "        em = 2\n",
    "    elif (labels[i][2] == 4):\n",
    "        em = 3\n",
    "    elif (labels[i][2] == 5):\n",
    "        em = 4\n",
    "    elif (labels[i][2] == 6):\n",
    "        em = 5\n",
    "    elif (labels[i][2] == 7):\n",
    "        em = 6\n",
    "    elif (labels[i][2] == 8):\n",
    "        em = 7\n",
    "    \n",
    "    features.append([audio_data[i], label, int(labels[i][2])-1])\n",
    "\n",
    "\n",
    "    \n",
    "feature_df = pd.DataFrame(features, columns = [\"mel_spec\", \"gender\", \"emotion\"])\n",
    "\n",
    "feature_df.head()"
   ]
  },
  {
   "cell_type": "code",
   "execution_count": 3,
   "metadata": {},
   "outputs": [],
   "source": [
    "#split data - males vs females\n",
    "mal = feature_df.loc[feature_df['gender'] == \"Male\"]\n",
    "fem = feature_df.loc[feature_df['gender'] == \"Female\"]"
   ]
  },
  {
   "cell_type": "code",
   "execution_count": 4,
   "metadata": {},
   "outputs": [],
   "source": [
    "## ===== Males ===== ##\n",
    "X_males = np.array(mal.mel_spec.tolist())\n",
    "y_males = np.array(mal.emotion.tolist())\n",
    "\n",
    "#20-80 train-test split\n",
    "X_train_males, X_test_males, y_train_males, y_test_males = train_test_split(X_males, y_males, test_size=0.20, random_state=0)\n",
    "\n",
    "## ===== Females ===== ##\n",
    "X_females = np.array(fem.mel_spec.tolist())\n",
    "y_females = np.array(fem.emotion.tolist())\n",
    "\n",
    "#20-80 train-test split\n",
    "X_train_females, X_test_females, y_train_females, y_test_females = train_test_split(X_females, y_females, test_size=0.20, random_state=0)"
   ]
  },
  {
   "cell_type": "code",
   "execution_count": 5,
   "metadata": {},
   "outputs": [],
   "source": [
    "# Reshape for CNN input\n",
    "X_train_females = np.array([x.reshape( (128, 128, 1) ) for x in X_train_females])\n",
    "X_test_females = np.array([x.reshape( (128, 128, 1) ) for x in X_test_females])\n",
    "\n",
    "# One-Hot encoding for classes\n",
    "y_train_females = np.array(to_categorical(y_train_females, 8))\n",
    "y_test_females = np.array(to_categorical(y_test_females, 8))"
   ]
  },
  {
   "cell_type": "code",
   "execution_count": 6,
   "metadata": {},
   "outputs": [],
   "source": [
    "model = Sequential()\n",
    "input_shape=(128, 128, 1)\n",
    "\n",
    "model.add(Conv2D(24, (5, 5), strides=(1, 1), input_shape=input_shape))\n",
    "model.add(MaxPooling2D((4, 2), strides=(4, 2)))\n",
    "model.add(Activation('relu'))\n",
    "\n",
    "model.add(Conv2D(48, (5, 5), padding=\"valid\"))\n",
    "model.add(MaxPooling2D((4, 2), strides=(4, 2)))\n",
    "model.add(Activation('relu'))\n",
    "\n",
    "model.add(Conv2D(48, (5, 5), padding=\"valid\"))\n",
    "model.add(Activation('relu'))\n",
    "\n",
    "model.add(Flatten())\n",
    "model.add(Dropout(rate=0.5))\n",
    "\n",
    "model.add(Dense(64))\n",
    "model.add(Activation('relu'))\n",
    "model.add(Dropout(rate=0.5))\n",
    "\n",
    "model.add(Dense(8))\n",
    "model.add(Activation('softmax'))"
   ]
  },
  {
   "cell_type": "code",
   "execution_count": 7,
   "metadata": {},
   "outputs": [
    {
     "output_type": "error",
     "ename": "NameError",
     "evalue": "name 'X_train' is not defined",
     "traceback": [
      "\u001b[0;31m---------------------------------------------------------------------------\u001b[0m",
      "\u001b[0;31mNameError\u001b[0m                                 Traceback (most recent call last)",
      "\u001b[0;32m<ipython-input-7-f02a7ce2e827>\u001b[0m in \u001b[0;36m<module>\u001b[0;34m\u001b[0m\n\u001b[1;32m      5\u001b[0m \u001b[0;34m\u001b[0m\u001b[0m\n\u001b[1;32m      6\u001b[0m model.fit(\n\u001b[0;32m----> 7\u001b[0;31m         \u001b[0mx\u001b[0m\u001b[0;34m=\u001b[0m\u001b[0mX_train\u001b[0m\u001b[0;34m,\u001b[0m\u001b[0;34m\u001b[0m\u001b[0;34m\u001b[0m\u001b[0m\n\u001b[0m\u001b[1;32m      8\u001b[0m         \u001b[0my\u001b[0m\u001b[0;34m=\u001b[0m\u001b[0my_train\u001b[0m\u001b[0;34m,\u001b[0m\u001b[0;34m\u001b[0m\u001b[0;34m\u001b[0m\u001b[0m\n\u001b[1;32m      9\u001b[0m     \u001b[0mepochs\u001b[0m\u001b[0;34m=\u001b[0m\u001b[0;36m50\u001b[0m\u001b[0;34m,\u001b[0m\u001b[0;34m\u001b[0m\u001b[0;34m\u001b[0m\u001b[0m\n",
      "\u001b[0;31mNameError\u001b[0m: name 'X_train' is not defined"
     ]
    }
   ],
   "source": [
    "model.compile(\n",
    "\toptimizer=\"Adam\",\n",
    "\tloss=\"categorical_crossentropy\",\n",
    "\tmetrics=['accuracy'])\n",
    "\n",
    "model.fit(\n",
    "\tx=X_train_females,\n",
    "\ty=y_train_females,\n",
    "    epochs=50,\n",
    "    batch_size=128,\n",
    "    validation_data= (X_test_females, y_test_females))\n",
    "\n",
    "score = model.evaluate(\n",
    "\tx=X_test_females,\n",
    "\ty=y_test_females)\n",
    "\n",
    "print('Test loss:', score[0])\n",
    "print('Test accuracy:', score[1])"
   ]
  },
  {
   "cell_type": "code",
   "execution_count": null,
   "metadata": {},
   "outputs": [],
   "source": []
  }
 ]
}