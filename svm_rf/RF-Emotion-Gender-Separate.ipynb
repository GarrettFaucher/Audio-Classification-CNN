{
 "cells": [
  {
   "cell_type": "markdown",
   "metadata": {},
   "source": [
    "# Machine Learning Algorithms for Audio Classification"
   ]
  },
  {
   "cell_type": "code",
   "execution_count": 11,
   "metadata": {},
   "outputs": [],
   "source": [
    "import numpy as np\n",
    "import pandas as pd\n",
    "import matplotlib.pyplot as plt\n",
    "import librosa\n",
    "import librosa.display\n",
    "import sklearn as sk\n",
    "from sklearn.ensemble import RandomForestClassifier\n",
    "\n",
    "\n",
    "%matplotlib inline"
   ]
  },
  {
   "cell_type": "code",
   "execution_count": 8,
   "metadata": {},
   "outputs": [
    {
     "data": {
      "text/html": [
       "<div>\n",
       "<style scoped>\n",
       "    .dataframe tbody tr th:only-of-type {\n",
       "        vertical-align: middle;\n",
       "    }\n",
       "\n",
       "    .dataframe tbody tr th {\n",
       "        vertical-align: top;\n",
       "    }\n",
       "\n",
       "    .dataframe thead th {\n",
       "        text-align: right;\n",
       "    }\n",
       "</style>\n",
       "<table border=\"1\" class=\"dataframe\">\n",
       "  <thead>\n",
       "    <tr style=\"text-align: right;\">\n",
       "      <th></th>\n",
       "      <th>mfcc</th>\n",
       "      <th>gender</th>\n",
       "      <th>emotion</th>\n",
       "    </tr>\n",
       "  </thead>\n",
       "  <tbody>\n",
       "    <tr>\n",
       "      <th>0</th>\n",
       "      <td>[-855.3770751953125, -855.3770751953125, -855....</td>\n",
       "      <td>Male</td>\n",
       "      <td>neutral</td>\n",
       "    </tr>\n",
       "    <tr>\n",
       "      <th>1</th>\n",
       "      <td>[-850.3917236328125, -850.435791015625, -850.4...</td>\n",
       "      <td>Male</td>\n",
       "      <td>neutral</td>\n",
       "    </tr>\n",
       "    <tr>\n",
       "      <th>2</th>\n",
       "      <td>[-849.78369140625, -848.8447265625, -848.56610...</td>\n",
       "      <td>Male</td>\n",
       "      <td>neutral</td>\n",
       "    </tr>\n",
       "    <tr>\n",
       "      <th>3</th>\n",
       "      <td>[-842.9385375976562, -843.2474975585938, -850....</td>\n",
       "      <td>Male</td>\n",
       "      <td>neutral</td>\n",
       "    </tr>\n",
       "    <tr>\n",
       "      <th>4</th>\n",
       "      <td>[-911.1758422851562, -910.4053344726562, -905....</td>\n",
       "      <td>Male</td>\n",
       "      <td>calm</td>\n",
       "    </tr>\n",
       "  </tbody>\n",
       "</table>\n",
       "</div>"
      ],
      "text/plain": [
       "                                                mfcc gender  emotion\n",
       "0  [-855.3770751953125, -855.3770751953125, -855....   Male  neutral\n",
       "1  [-850.3917236328125, -850.435791015625, -850.4...   Male  neutral\n",
       "2  [-849.78369140625, -848.8447265625, -848.56610...   Male  neutral\n",
       "3  [-842.9385375976562, -843.2474975585938, -850....   Male  neutral\n",
       "4  [-911.1758422851562, -910.4053344726562, -905....   Male     calm"
      ]
     },
     "execution_count": 8,
     "metadata": {},
     "output_type": "execute_result"
    }
   ],
   "source": [
    "audio_data = np.load(\"audio_data.npy\")\n",
    "labels = np.load(\"wav_labels.npy\")\n",
    "\n",
    "# labels: modality-vocal channel-emotion-emotional intensity-statement-repetition-actor\n",
    "# emotions: 01 = neutral, 02 = calm, 03 = happy, 04 = sad, 05 = angry, 06 = fearful, 07 = disgust, 08 = surprised\n",
    "# odd number actors = male, even = female\n",
    "\n",
    "# 1440 files: 24 speakers, 60 recordings per speaker\n",
    "audio_data = audio_data.reshape(1440, 9480)\n",
    "\n",
    "features = []\n",
    "\n",
    "for i in range(1440):\n",
    "    \n",
    "    if (labels[i][6]%2 == 0):\n",
    "        label = \"Female\"\n",
    "    else:\n",
    "        label = \"Male\"\n",
    "        \n",
    "    if (labels[i][2] == 1):\n",
    "        emot = \"neutral\"\n",
    "    elif (labels[i][2] == 2):\n",
    "        emot = \"calm\"\n",
    "    elif (labels[i][2] == 3):\n",
    "        emot = \"happy\"\n",
    "    elif (labels[i][2] == 4):\n",
    "        emot = \"sad\"\n",
    "    elif (labels[i][2] == 5):\n",
    "        emot = \"angry\"\n",
    "    elif (labels[i][2] == 6):\n",
    "        emot = \"fearful\"\n",
    "    elif (labels[i][2] == 7):\n",
    "        emot = \"disgust\"\n",
    "    elif (labels[i][2] == 8):\n",
    "        emot = \"surprised\"\n",
    "    \n",
    "    features.append([audio_data[i], label, emot])\n",
    "\n",
    "\n",
    "    \n",
    "feature_df = pd.DataFrame(features, columns = [\"mfcc\", \"gender\", \"emotion\"])\n",
    "\n",
    "feature_df.head()"
   ]
  },
  {
   "cell_type": "code",
   "execution_count": 38,
   "metadata": {},
   "outputs": [],
   "source": [
    "X = np.array(feature_df.mfcc.tolist())\n",
    "\n",
    "Y = np.array(feature_df.gender.tolist())\n",
    "\n",
    "Y1 = np.array(feature_df.emotion.tolist())\n",
    "\n",
    "# pca = sk.decomposition.PCA(n_components = 2).fit_transform(X)\n",
    "\n",
    "x_train, x_test, y_train, y_test = sk.model_selection.train_test_split(X, Y, test_size=0.25, random_state=0)\n",
    "\n",
    "X_train, X_test, Y_train, Y_test = sk.model_selection.train_test_split(X, Y1, test_size=0.25, random_state=0)\n",
    "\n",
    "# Standard RF\n",
    "rfc_gender = RandomForestClassifier()\n",
    "\n",
    "rfc_gender.fit(x_train, y_train)\n",
    "\n",
    "predictions_gen = rfc_gender.predict(x_test)\n",
    "\n",
    "rfc_emotion = RandomForestClassifier()\n",
    "\n",
    "rfc_emotion.fit(X_train, Y_train)\n",
    "\n",
    "predictions_emot = rfc_emotion.predict(X_test)"
   ]
  },
  {
   "cell_type": "code",
   "execution_count": 40,
   "metadata": {},
   "outputs": [
    {
     "name": "stdout",
     "output_type": "stream",
     "text": [
      "Gender Classification\n",
      "   Male  Female\n",
      "0   177       6\n",
      "1     5     172\n"
     ]
    },
    {
     "data": {
      "image/png": "[encoded data removed]",
      "text/plain": [
       "<Figure size 720x288 with 1 Axes>"
      ]
     },
     "metadata": {
      "needs_background": "light"
     },
     "output_type": "display_data"
    },
    {
     "name": "stdout",
     "output_type": "stream",
     "text": [
      "Emotion Classification\n",
      "   neutral  calm  happy  sad  angry  fearful  disgust  surprised\n",
      "0       26     1      8    0      6        0        0          4\n",
      "1        0    39      1    0      0        5        9          0\n",
      "2        3     7     20    2      3        3        4          4\n",
      "3        5     1      5   22      2        2        3          7\n",
      "4        3     1      2    8     16        0        6          6\n",
      "5        0    11      0    0      2       10        5          0\n",
      "6        2    12      3    4      2        2       18          2\n",
      "7        2     0      3    3     10        2        2         31\n"
     ]
    },
    {
     "data": {
      "image/png": "[encoded data removed]",
      "text/plain": [
       "<Figure size 720x288 with 1 Axes>"
      ]
     },
     "metadata": {
      "needs_background": "light"
     },
     "output_type": "display_data"
    }
   ],
   "source": [
    "cm_gen = sk.metrics.confusion_matrix(y_test, predictions_gen)\n",
    "cm_emot = sk.metrics.confusion_matrix(Y_test, predictions_emot)\n",
    "\n",
    "print(\"Gender Classification\")\n",
    "df = pd.DataFrame(cm_gen, columns=[Y[0], Y[60]])\n",
    "print(df)\n",
    "\n",
    "plt.figure(figsize=(10,4))\n",
    "plt.imshow(cm_gen)\n",
    "plt.title(\"Confusion Matrix\")\n",
    "plt.show()\n",
    "\n",
    "print(\"Emotion Classification\")\n",
    "df = pd.DataFrame(cm_emot, columns=[Y1[0], Y1[4], Y1[12], Y1[20], Y1[28], Y1[36], Y1[44], Y1[52] ])\n",
    "print(df)\n",
    "\n",
    "plt.figure(figsize=(10,4))\n",
    "plt.imshow(cm_emot)\n",
    "plt.title(\"Confusion Matrix\")\n",
    "plt.show()"
   ]
  },
  {
   "cell_type": "code",
   "execution_count": 32,
   "metadata": {},
   "outputs": [
    {
     "name": "stdout",
     "output_type": "stream",
     "text": [
      "Classification by Gender Precision: 0.9722830951572579\n",
      "              precision    recall  f1-score   support\n",
      "\n",
      "      Female       0.98      0.96      0.97       183\n",
      "        Male       0.96      0.98      0.97       177\n",
      "\n",
      "    accuracy                           0.97       360\n",
      "   macro avg       0.97      0.97      0.97       360\n",
      "weighted avg       0.97      0.97      0.97       360\n",
      "\n",
      "Classification by Emotion Precision: 0.4653170285118612\n",
      "              precision    recall  f1-score   support\n",
      "\n",
      "       angry       0.56      0.60      0.58        45\n",
      "        calm       0.58      0.72      0.64        54\n",
      "     disgust       0.45      0.41      0.43        46\n",
      "     fearful       0.49      0.36      0.41        47\n",
      "       happy       0.39      0.38      0.39        42\n",
      "     neutral       0.38      0.36      0.37        28\n",
      "         sad       0.33      0.36      0.34        45\n",
      "   surprised       0.54      0.53      0.53        53\n",
      "\n",
      "    accuracy                           0.48       360\n",
      "   macro avg       0.47      0.46      0.46       360\n",
      "weighted avg       0.47      0.48      0.47       360\n",
      "\n"
     ]
    }
   ],
   "source": [
    "def precision(confmatrix):\n",
    "    # precision = tp/(tp+fp)\n",
    "    tp = np.diag(confmatrix)\n",
    "    fp = np.sum(confmatrix, axis=0) - tp\n",
    "    precision = np.mean(tp/(tp+fp))\n",
    "    return precision\n",
    "\n",
    "prec_gen = precision(cm_gen)\n",
    "prec_emot = precision(cm_emot)\n",
    "\n",
    "print(\"Classification by Gender Precision: \" + str(prec_gen))\n",
    "cr = sk.metrics.classification_report(y_test, predictions_gen)\n",
    "print(cr)\n",
    "\n",
    "print(\"Classification by Emotion Precision: \" + str(prec_emot))\n",
    "cr = sk.metrics.classification_report(Y_test, predictions_emot)\n",
    "print(cr)"
   ]
  },
  {
   "cell_type": "code",
   "execution_count": null,
   "metadata": {},
   "outputs": [],
   "source": []
  }
 ],
 "metadata": {
  "kernelspec": {
   "display_name": "Python 3",
   "language": "python",
   "name": "python3"
  },
  "language_info": {
   "codemirror_mode": {
    "name": "ipython",
    "version": 3
   },
   "file_extension": ".py",
   "mimetype": "text/x-python",
   "name": "python",
   "nbconvert_exporter": "python",
   "pygments_lexer": "ipython3",
   "version": "3.8.3"
  }
 },
 "nbformat": 4,
 "nbformat_minor": 4
}
